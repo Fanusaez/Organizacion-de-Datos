{
  "nbformat": 4,
  "nbformat_minor": 0,
  "metadata": {
    "colab": {
      "provenance": [],
      "collapsed_sections": [
        "sNNABvNkj4p3",
        "x7obinwsXj2R",
        "6dvqpEjcNfku",
        "uKPytwH4tcj1",
        "ibIj7N_N0iIF",
        "iFIiN0GSxuYy",
        "9aGM2zeWxgVV",
        "o1a6J6PqN5ZD",
        "KSDtwtHcPj6r",
        "Gvh24ZNYPuBu",
        "V03Yfz5TP7b2",
        "rAtlehumZ6W6",
        "drZ77vd6akIo",
        "Y3K6gpXsc-g4",
        "XDqTlPbuOTg3",
        "WO-10OYzYFaN",
        "Co0o29--Yuhd"
      ],
      "include_colab_link": true
    },
    "kernelspec": {
      "name": "python3",
      "display_name": "Python 3"
    },
    "language_info": {
      "name": "python"
    }
  },
  "cells": [
    {
      "cell_type": "markdown",
      "metadata": {
        "id": "view-in-github",
        "colab_type": "text"
      },
      "source": [
        "<a href=\"https://colab.research.google.com/github/Fanusaez/Organizacion-de-Datos/blob/main/Pandas_ejercicios.ipynb\" target=\"_parent\"><img src=\"https://colab.research.google.com/assets/colab-badge.svg\" alt=\"Open In Colab\"/></a>"
      ]
    },
    {
      "cell_type": "markdown",
      "source": [
        "# <center>Organizaci&oacute;n de Datos</center>\n",
        "#### <center>C&aacute;tedra Ing. Rodriguez, Juan Manuel </center>\n",
        "\n",
        "## <center>Introducción a la Ciencia de Datos</center>\n",
        "### <center> Práctica Pandas y Visualizaciones</center>"
      ],
      "metadata": {
        "id": "eG-y4VJqK9HT"
      }
    },
    {
      "cell_type": "code",
      "source": [
        "from google.colab import drive\n",
        "drive.mount(\"/gdrive\")"
      ],
      "metadata": {
        "colab": {
          "base_uri": "https://localhost:8080/"
        },
        "id": "YdHHyTK2Yxtj",
        "outputId": "d5cd1ff9-b828-4b60-ecf0-7b611ac4ebec"
      },
      "execution_count": null,
      "outputs": [
        {
          "output_type": "stream",
          "name": "stdout",
          "text": [
            "Drive already mounted at /gdrive; to attempt to forcibly remount, call drive.mount(\"/gdrive\", force_remount=True).\n"
          ]
        }
      ]
    },
    {
      "cell_type": "markdown",
      "source": [
        "En esta notebook vamos a trabajar con los siguientes conjuntos de datos (datasets):\n",
        "\n",
        "*   iris.csv\n",
        "*   peliculas.csv\n",
        "*   attacks.csv\n",
        "*   dolar_oficial_ambito.csv\n",
        "*   spotify.csv\n",
        "\n",
        "A continuación se encuentran los ejercicios que tenemos que realizar:"
      ],
      "metadata": {
        "id": "d2EzggmbK9wo"
      }
    },
    {
      "cell_type": "markdown",
      "source": [
        "## Ejercicio 1 - Dataset Iris\n",
        "\n",
        "El conjunto de datos iris contiene medidas de longitud y ancho de pétalos y sépalos de flores de tres especies de Iris recogidas por el botánico Edgar Anderson. Es uno de los datasets más clásicos en el mundo del Machine Learning. Basado en la combinación de estos cuatro rasgos, Fisher desarrolló un modelo discriminante lineal para distinguir entre una especie y otra."
      ],
      "metadata": {
        "id": "fHgtvAnENcec"
      }
    },
    {
      "cell_type": "markdown",
      "source": [
        "#### a) Cargar los datos en un dataframe de pandas.\n",
        "\n",
        "* ¿Cuál es la cantidad de filas del datset? ¿y la cantidad de columnas?\n",
        "* ¿Cuáles son los tipos de datos de cada columna?\n",
        "* Mostrar los datos de las 5 primeras filas\n",
        "* Mostrar si existen datos faltantes (N/A)\n",
        "\n"
      ],
      "metadata": {
        "id": "DzErbCVNVBQ1"
      }
    },
    {
      "cell_type": "code",
      "source": [
        "import pandas as pd\n",
        "\n",
        "iris = pd.read_csv('/gdrive/My Drive/Datasets/iris.csv')\n",
        "iris.shape"
      ],
      "metadata": {
        "colab": {
          "base_uri": "https://localhost:8080/"
        },
        "id": "5coghJA-VBAL",
        "outputId": "4e9b9109-9d41-40d9-d114-39a284dfbf94"
      },
      "execution_count": null,
      "outputs": [
        {
          "output_type": "execute_result",
          "data": {
            "text/plain": [
              "(150, 5)"
            ]
          },
          "metadata": {},
          "execution_count": 6
        }
      ]
    },
    {
      "cell_type": "markdown",
      "source": [
        "El dataset contiene 150 filas y 5 columnas"
      ],
      "metadata": {
        "id": "lPghXd9Ulm6W"
      }
    },
    {
      "cell_type": "code",
      "source": [
        "iris.head(5)"
      ],
      "metadata": {
        "id": "nifsTy5CjiBy"
      },
      "execution_count": null,
      "outputs": []
    },
    {
      "cell_type": "markdown",
      "source": [
        "Cada observacion corresponde a una flor sobre ella se midieron el largo y el ancho del sepalo y el ancho y el largo del pétalo. También se registra cuál es la especie de cada flor."
      ],
      "metadata": {
        "id": "SRCbVbv7lqpY"
      }
    },
    {
      "cell_type": "code",
      "source": [
        "iris.info()"
      ],
      "metadata": {
        "id": "9LhmuHRWjrM8"
      },
      "execution_count": null,
      "outputs": []
    },
    {
      "cell_type": "code",
      "source": [
        "iris.dtypes"
      ],
      "metadata": {
        "id": "eUK7uJpJks2p"
      },
      "execution_count": null,
      "outputs": []
    },
    {
      "cell_type": "markdown",
      "source": [
        "En Python, el tipo de datos de texto se conoce como secuencia de caracteres (string). En Pandas se los conoce como objetos (object). Las secuencias de caracteres pueden contener números y / o caracteres. "
      ],
      "metadata": {
        "id": "Vhoc3tsBlSk1"
      }
    },
    {
      "cell_type": "code",
      "source": [
        "iris.isnull().sum()"
      ],
      "metadata": {
        "id": "yrZXuOK4k-L2"
      },
      "execution_count": null,
      "outputs": []
    },
    {
      "cell_type": "markdown",
      "source": [
        "Podemos ver que ninguna columna tiene valores faltante"
      ],
      "metadata": {
        "id": "e9NDiPdXlRld"
      }
    },
    {
      "cell_type": "markdown",
      "source": [
        "### b) Medidas de resumen\n",
        "\n",
        "* Cuál es la cantidad de observaciones de cada especie\n",
        "* Crear un nuevo dataframe **iris_mean** que contenga el promedio de cada variable del dataset agrupado por especie\n",
        "* Crear un nuevo dataframe **iris_resumen_setosa** que contenga las medidas de resumen para la espcie setosa.(cantidad total, media, minimo,maximo,desviacion estandar y cuantiles) "
      ],
      "metadata": {
        "id": "sNNABvNkj4p3"
      }
    },
    {
      "cell_type": "code",
      "source": [
        "iris.species.value_counts()"
      ],
      "metadata": {
        "id": "E_0wWqtSi4dk"
      },
      "execution_count": null,
      "outputs": []
    },
    {
      "cell_type": "markdown",
      "source": [
        "Vemos que hay 50 flores de cada especie"
      ],
      "metadata": {
        "id": "BhZXbvPonJbo"
      }
    },
    {
      "cell_type": "code",
      "source": [
        "iris_mean=iris.groupby(['species']).mean()\n",
        "iris_mean"
      ],
      "metadata": {
        "id": "xWOR5sDhh3z9"
      },
      "execution_count": null,
      "outputs": []
    },
    {
      "cell_type": "markdown",
      "source": [
        "La especie setosa tiene el menor ancho promedio de pétalo y la especie virgínica el mayor largo promedio de sépalo.\n"
      ],
      "metadata": {
        "id": "Eg14rxa0nMXb"
      }
    },
    {
      "cell_type": "code",
      "source": [
        "iris_setosa_resumen=iris[iris.species=='setosa'].describe()\n",
        "iris_setosa_resumen"
      ],
      "metadata": {
        "id": "W4grqfBfgo1S"
      },
      "execution_count": null,
      "outputs": []
    },
    {
      "cell_type": "markdown",
      "source": [
        "Para la especie setosa podemos ver que las mediciones del sépalo son las que presentan mayor desvío estándar "
      ],
      "metadata": {
        "id": "2OQF_dcGnb4y"
      }
    },
    {
      "cell_type": "markdown",
      "source": [
        "###c)  Realizar los siguientes gráficos:\n",
        "* grafico de barras para la cantidad de obsevaciones por especie\n",
        "* scatter plot el largo del sépalo y el ancho del sépalo coloreando las observaciones por especie.\n",
        "* scatter plot el largo del pétalo y el ancho del pétalo coloreando las observaciones por especie.\n",
        "* histograma del largo del petalo para cada especie\n",
        "* boxplot comparativos por especie para cada variable"
      ],
      "metadata": {
        "id": "P4FnbwGqW676"
      }
    },
    {
      "cell_type": "code",
      "source": [
        "#Vamos a usar seaborn y matplotlib\n",
        "import seaborn as sns\n",
        "from matplotlib import pyplot as plt"
      ],
      "metadata": {
        "id": "e9mV2u_qoY3D"
      },
      "execution_count": null,
      "outputs": []
    },
    {
      "cell_type": "code",
      "source": [
        "#Grafico de Barras\n",
        "sns.countplot(x='species', data=iris, )\n",
        "plt.show()"
      ],
      "metadata": {
        "id": "hhjMgIqFoI_K"
      },
      "execution_count": null,
      "outputs": []
    },
    {
      "cell_type": "code",
      "source": [
        "#Grafico scatter plot sepalos\n",
        "sns.set_style(\"whitegrid\")\n",
        "sns.FacetGrid(iris, hue =\"species\", height = 5).map(plt.scatter,'sepal_length','sepal_width').add_legend()\n"
      ],
      "metadata": {
        "id": "aUgJKAS2eo5x"
      },
      "execution_count": null,
      "outputs": []
    },
    {
      "cell_type": "markdown",
      "source": [
        "¿Qué podemos ver en este scatter plot? \n",
        "\n",
        "La especie Setosa tiene sépalos más pequeños pero anchos de sépalos más grandes.\n",
        "\n",
        "La especie Virginica tiene sépalos más largos pero anchos de sépalos más pequeños."
      ],
      "metadata": {
        "id": "UEIz5x8TowHR"
      }
    },
    {
      "cell_type": "code",
      "source": [
        "#Grafico scatter plot petalos\n",
        "sns.scatterplot(x='petal_length', y='petal_width',hue='species', data=iris )\n",
        "plt.legend(bbox_to_anchor=(1, 1), loc=2)\n",
        "plt.show()"
      ],
      "metadata": {
        "id": "w_u1Umllpdr8"
      },
      "execution_count": null,
      "outputs": []
    },
    {
      "cell_type": "markdown",
      "source": [
        "¿Qué podemos ver en este scatter plot? \n",
        "\n",
        "La especie Setosa tiene pétalos de menor longitud y anchura.\n",
        "\n",
        "La especie Virginica tiene la mayor longitud y anchura de los pétalos."
      ],
      "metadata": {
        "id": "Gv_zMWHQpQOt"
      }
    },
    {
      "cell_type": "code",
      "source": [
        "import warnings\n",
        "warnings.simplefilter(action='ignore', category=FutureWarning)\n",
        "\n",
        "#Histograma del largo del petalo\n",
        "plot = sns.FacetGrid(iris, hue=\"species\",height=4)\n",
        "plot.map(sns.distplot, \"petal_length\").add_legend()"
      ],
      "metadata": {
        "id": "1Tt4gULmrjHe"
      },
      "execution_count": null,
      "outputs": []
    },
    {
      "cell_type": "markdown",
      "source": [
        "¿Qué podemos ver en este gráfico? ...\n"
      ],
      "metadata": {
        "id": "kn7Da-ZksJDG"
      }
    },
    {
      "cell_type": "code",
      "source": [
        "#Grafico boxplots \n",
        "\n",
        "plt.figure(figsize=(10,10))\n",
        "      \n",
        "plt.subplot(221)\n",
        "sns.boxplot(x=\"species\", y='sepal_length', data=iris)\n",
        "  \n",
        "plt.subplot(222)\n",
        "sns.boxplot(x=\"species\", y='sepal_width', data=iris)\n",
        "  \n",
        "plt.subplot(223)\n",
        "sns.boxplot(x=\"species\", y='petal_length', data=iris)\n",
        "  \n",
        "plt.subplot(224)\n",
        "sns.boxplot(x=\"species\", y='petal_width', data=iris)\n",
        "  \n",
        "plt.show()"
      ],
      "metadata": {
        "id": "AMMulBZAslLy"
      },
      "execution_count": null,
      "outputs": []
    },
    {
      "cell_type": "markdown",
      "source": [
        "### Bonus track!"
      ],
      "metadata": {
        "id": "6h4j0QaxqXP7"
      }
    },
    {
      "cell_type": "code",
      "source": [
        "# Gráfico de a pares\n",
        "sns.pairplot(iris, hue='species', height=2)\n"
      ],
      "metadata": {
        "id": "RwyPogWLqYxz"
      },
      "execution_count": null,
      "outputs": []
    },
    {
      "cell_type": "markdown",
      "source": [
        "####  Realizar un gráfico a elección sobre el conjunto de datos indicando que información se puede obtener de dicha visualización"
      ],
      "metadata": {
        "id": "x7obinwsXj2R"
      }
    },
    {
      "cell_type": "code",
      "source": [],
      "metadata": {
        "id": "VqrqMfuKNe2K"
      },
      "execution_count": null,
      "outputs": []
    },
    {
      "cell_type": "code",
      "source": [],
      "metadata": {
        "id": "9sbOitCrW-cR"
      },
      "execution_count": null,
      "outputs": []
    },
    {
      "cell_type": "markdown",
      "source": [
        "## Ejercicio 2 - Dataset Películas\n",
        "\n",
        "El conjunto de datos contiene información de IMDB sobre algunas películas estrenadas durante los años 1995 y 1996. Se coonce el título de las películas, el pesupuesto invertido, los ingresos obtenidos y la popularidad entre otros."
      ],
      "metadata": {
        "id": "6dvqpEjcNfku"
      }
    },
    {
      "cell_type": "markdown",
      "source": [
        "#### a) Cargar el dataset en un dataframe de pandas\n",
        "\n",
        "* ¿Cuál es la cantidad de filas del datset? ¿y la cantidad de columnas?\n",
        "* Listar los nombres de las columnas y sus tipos de dato.\n",
        "* Mostrar los datos de las 5 primeras filas\n",
        "* Mostrar si existen datos faltantes (N/A)\n",
        "¿Qué porcentaje representan del total de datos?"
      ],
      "metadata": {
        "id": "uKPytwH4tcj1"
      }
    },
    {
      "cell_type": "code",
      "source": [],
      "metadata": {
        "id": "FjdZpkF_6-8d"
      },
      "execution_count": null,
      "outputs": []
    },
    {
      "cell_type": "code",
      "source": [],
      "metadata": {
        "id": "01RPVrMQDGut"
      },
      "execution_count": null,
      "outputs": []
    },
    {
      "cell_type": "code",
      "source": [],
      "metadata": {
        "id": "YedA4fikDGkq"
      },
      "execution_count": null,
      "outputs": []
    },
    {
      "cell_type": "code",
      "source": [],
      "metadata": {
        "id": "WDgDpgSADGSd"
      },
      "execution_count": null,
      "outputs": []
    },
    {
      "cell_type": "markdown",
      "source": [
        "#### b)  Generar un nuevo dataframe **dataset_peliculas** que contenga las siguientes columnas: \n",
        "\n",
        "* *original_title*\n",
        "* *title* \n",
        "* *adult*\n",
        "* *original_language*\n",
        "* *popularity*\n",
        "* *budget*\n",
        "* *release_date*\n",
        "* *revenue*\n",
        "* *vote_count*\n",
        "\n",
        "Verificar si existen datos faltantes, en ese caso eliminar las filas que los contengan. \n",
        "\n",
        "A partir del atributo release_date generar dos nuevos atributos **year y month**\n",
        "\n",
        "Guardar el dataset en un archivo csv con el nombre dataset_peliculas."
      ],
      "metadata": {
        "id": "ibIj7N_N0iIF"
      }
    },
    {
      "cell_type": "code",
      "source": [],
      "metadata": {
        "id": "gyAlOCc51RgN"
      },
      "execution_count": null,
      "outputs": []
    },
    {
      "cell_type": "code",
      "source": [],
      "metadata": {
        "id": "4SrgyyWp2t0S"
      },
      "execution_count": null,
      "outputs": []
    },
    {
      "cell_type": "code",
      "source": [],
      "metadata": {
        "id": "3NMrV3suCAPG"
      },
      "execution_count": null,
      "outputs": []
    },
    {
      "cell_type": "markdown",
      "source": [
        "#### c) Responder las siguientes preguntas sobre los datos del  **dataset_peliculas** generado en el punto b.\n",
        "\n",
        "* ¿Cuál es el idioma más popular de las películas?\n",
        "Generar un dataframe **idiomas** que contenga una columna *idioma* y otra *cantidad* donde se pueda ver la cantidad de veces que aparece cada idioma en en el dataset. \n",
        "\n",
        "* ¿Qué películas tienen un *revenue* mayor al promedio?\n",
        "Generar un dataframe **mayor_revenue** que contenga una columna *titulo* y otra *revenue* con las películas que tengan un revenue mayor al promedio.\n",
        "\n",
        "* ¿Cuál fue la rentabilidad (revenue - budget) de cada película?\n",
        "Generar un dataframe **rentabilidad** conlas columnas *titulo, rentabildad, revenue y budget** ordenado de mayor a menor. \n",
        "¿Qué peliculas fueron las más rentables?\n",
        "¿Cuáles no fueron rentables?\n"
      ],
      "metadata": {
        "id": "iFIiN0GSxuYy"
      }
    },
    {
      "cell_type": "code",
      "source": [],
      "metadata": {
        "id": "JF3nGQfIxty0"
      },
      "execution_count": null,
      "outputs": []
    },
    {
      "cell_type": "code",
      "source": [],
      "metadata": {
        "id": "cEeqBg1aB9Zm"
      },
      "execution_count": null,
      "outputs": []
    },
    {
      "cell_type": "code",
      "source": [],
      "metadata": {
        "id": "SqY1TJ5UB-VX"
      },
      "execution_count": null,
      "outputs": []
    },
    {
      "cell_type": "markdown",
      "source": [
        "#### d) Realizar los siguientes gráficos\n",
        "\n",
        "* Realizar un gráfico de barras que permita ver la cantidad de películas estrenadas por mes durante el año 1996.\n",
        "\n",
        "* Realizar un scatter plot de budget vs revenue\n",
        "¿Qué podemos ver en el scatter plot? ¿Les llama la atención alguna/s observacion/es ?\n",
        "\n",
        "* Realizar un pairplot con todas las variables cuantitativas."
      ],
      "metadata": {
        "id": "9aGM2zeWxgVV"
      }
    },
    {
      "cell_type": "code",
      "source": [],
      "metadata": {
        "id": "DfhleaYYB5Mx"
      },
      "execution_count": null,
      "outputs": []
    },
    {
      "cell_type": "code",
      "source": [],
      "metadata": {
        "id": "MyaiQM4kDEc3"
      },
      "execution_count": null,
      "outputs": []
    },
    {
      "cell_type": "code",
      "source": [],
      "metadata": {
        "id": "sY7wXNTMB438"
      },
      "execution_count": null,
      "outputs": []
    },
    {
      "cell_type": "markdown",
      "source": [
        "## Ejercicio 3 - Dataset Ataque de Tiburones\n",
        "\n",
        "El conjunto de datos contiene un registro de los ataques de tiburones que ocurrieron en distintos países en los últimos 200 años. Se identifica el caso, el país,el sexo de la persona y su edad entre otros."
      ],
      "metadata": {
        "id": "o1a6J6PqN5ZD"
      }
    },
    {
      "cell_type": "markdown",
      "source": [
        "#### a) Cargar el dataset en un dataframe de pandas realizar un análisis exploratorio"
      ],
      "metadata": {
        "id": "KSDtwtHcPj6r"
      }
    },
    {
      "cell_type": "code",
      "source": [],
      "metadata": {
        "id": "8Dvp8SgUPtcw"
      },
      "execution_count": null,
      "outputs": []
    },
    {
      "cell_type": "code",
      "source": [],
      "metadata": {
        "id": "8OACbSSIPjpm"
      },
      "execution_count": null,
      "outputs": []
    },
    {
      "cell_type": "markdown",
      "source": [
        "#### b) Realizar un gráfico de barras para el atributo Country. ¿Cuáles son los dos países con mayor cantidad de ataque de tiburones?"
      ],
      "metadata": {
        "id": "Gvh24ZNYPuBu"
      }
    },
    {
      "cell_type": "code",
      "source": [],
      "metadata": {
        "id": "vi5t9q6jP5l7"
      },
      "execution_count": null,
      "outputs": []
    },
    {
      "cell_type": "code",
      "source": [],
      "metadata": {
        "id": "WD6hEoGeP6OB"
      },
      "execution_count": null,
      "outputs": []
    },
    {
      "cell_type": "markdown",
      "source": [
        "#### c) Crear un nuevo dataframe **shark_attacks** que contenga unicamente los ataques correspondientes a los dos países del punto b"
      ],
      "metadata": {
        "id": "V03Yfz5TP7b2"
      }
    },
    {
      "cell_type": "code",
      "source": [],
      "metadata": {
        "id": "gqnQMqAyZ55D"
      },
      "execution_count": null,
      "outputs": []
    },
    {
      "cell_type": "code",
      "source": [],
      "metadata": {
        "id": "lrepZTbqZ5vE"
      },
      "execution_count": null,
      "outputs": []
    },
    {
      "cell_type": "markdown",
      "source": [
        "#### d) Registros con valores inconsistentes:\n",
        "* La varible \"Sex\" debe contener únicamente los valores F, M . Eliminar los que no correspondan y también los valores faltantes.\n",
        "* La variable \"Age\" debe contener únicamente valores numéricos.Eliminar los valores que no correspondan, reemplazar los valores faltantes por 0 y convertir el tipo de dato a entero.\n",
        "* La variable Year debe contener únicamente valores del tipo AAAA (Ej: 1890,1916,etc). Modificar los valores y convertir el tipo de dato a entero. *Hint : str.replace(...)* . Filtrar los registros desde el 1800 en adelante."
      ],
      "metadata": {
        "id": "rAtlehumZ6W6"
      }
    },
    {
      "cell_type": "code",
      "source": [],
      "metadata": {
        "id": "AuZ_PVHTnX0y"
      },
      "execution_count": null,
      "outputs": []
    },
    {
      "cell_type": "code",
      "source": [],
      "metadata": {
        "id": "3BjFzzcBnXuk"
      },
      "execution_count": null,
      "outputs": []
    },
    {
      "cell_type": "code",
      "source": [],
      "metadata": {
        "id": "B1-kY2REajme"
      },
      "execution_count": null,
      "outputs": []
    },
    {
      "cell_type": "markdown",
      "source": [
        "#### e) Mostrar la cantidad de observaciones para cada categoría de la variable **Activity** . Mantener las categorias mas representativas y el resto unificarlas bajo la etiequeta **Other**"
      ],
      "metadata": {
        "id": "drZ77vd6akIo"
      }
    },
    {
      "cell_type": "code",
      "source": [],
      "metadata": {
        "id": "G9KFAdXiaqPD"
      },
      "execution_count": null,
      "outputs": []
    },
    {
      "cell_type": "code",
      "source": [],
      "metadata": {
        "id": "pYwPVEi0kvSU"
      },
      "execution_count": null,
      "outputs": []
    },
    {
      "cell_type": "code",
      "source": [],
      "metadata": {
        "id": "Sl7zMJv9kuzu"
      },
      "execution_count": null,
      "outputs": []
    },
    {
      "cell_type": "markdown",
      "source": [
        "#### f) Realizar una tabla cruzada para las siguientes combinaciones de variables:\n",
        "\n",
        "* Country-Sex\n",
        "* Country-Type\n",
        "* Year-Sex para los últimos 10 años."
      ],
      "metadata": {
        "id": "9balBg_wfuPq"
      }
    },
    {
      "cell_type": "code",
      "source": [],
      "metadata": {
        "id": "5NycPXh5ftiB"
      },
      "execution_count": null,
      "outputs": []
    },
    {
      "cell_type": "code",
      "source": [],
      "metadata": {
        "id": "M6-kFC1jksyn"
      },
      "execution_count": null,
      "outputs": []
    },
    {
      "cell_type": "code",
      "source": [],
      "metadata": {
        "id": "8ZfteE5Dkso5"
      },
      "execution_count": null,
      "outputs": []
    },
    {
      "cell_type": "markdown",
      "source": [
        "#### g) Realizar los siguientes gráficos:\n",
        "\n",
        "* Grafico de Violin: colocar en el eje horizontal la variable **Sex** y en el eje vertical la variable **Age** seleccionado sólo los registros donde la edad sea mayor a 0.\n",
        "\n",
        "* Gráfico de densidad para la variable **Age** por sexo, seleccionado sólo los registros donde la edad sea mayor a 0.\n",
        "\n",
        "* Gráfico de barras con la cantidad de accidentes por año por país para los últimos 60 años."
      ],
      "metadata": {
        "id": "Y3K6gpXsc-g4"
      }
    },
    {
      "cell_type": "code",
      "source": [],
      "metadata": {
        "id": "Ap4O6GrVFDgv"
      },
      "execution_count": null,
      "outputs": []
    },
    {
      "cell_type": "code",
      "source": [],
      "metadata": {
        "id": "qTd3gSKhnVJA"
      },
      "execution_count": null,
      "outputs": []
    },
    {
      "cell_type": "code",
      "source": [],
      "metadata": {
        "id": "VX43HJBonU3R"
      },
      "execution_count": null,
      "outputs": []
    },
    {
      "cell_type": "markdown",
      "source": [
        "## Ejercicio 4 - Dataset Dolar\n",
        "\n",
        "El conjunto de datos contiene la cotización oficial diaria del dólar para la compra y para la venta públicada en ámbito financiero.\n"
      ],
      "metadata": {
        "id": "5fzHFxmjN-uK"
      }
    },
    {
      "cell_type": "markdown",
      "source": [
        "#### a) Realizar un análisis exploratorio, mostrando el tamaño del dataset, los nombres de las columnas, los tipos de datos y las mediadas de resumen.\n",
        "¿Hay valores faltantes?"
      ],
      "metadata": {
        "id": "kqp7hI_VoR8E"
      }
    },
    {
      "cell_type": "code",
      "source": [],
      "metadata": {
        "id": "yHP2EEO-kGo5"
      },
      "execution_count": null,
      "outputs": []
    },
    {
      "cell_type": "code",
      "source": [],
      "metadata": {
        "id": "HTVwqLPukE1x"
      },
      "execution_count": null,
      "outputs": []
    },
    {
      "cell_type": "markdown",
      "source": [
        "#### b) Realizar las siguientes conversiones y generar los nuevos dataframes solicitados:\n",
        "\n",
        "* Convertir el atributo **fecha** en tipo de dato *date*. *Hint : pandas.to_datetime(...)*\n",
        "\n",
        "* A partir del atributo **fecha** generar tres nuevas columnas : **dia, mes, año**.\n",
        "\n",
        "* Generar un nuevo DataFrame **dolar_prom_mes** que contenga la cotización promedio mensual (para la compra y para la venta) de cada mes. El DF debe tener las siguientes columnas: **año,mes,venta_prom_mes,compra_prom_mes**\n",
        "\n",
        "* Generar un nuevo DataFrame **dolar_maxmin_mes** que contenga la cotización más alta y la mas baja de cada mes. El DF debe tener las siguientes columnas: **año,mes,venta_max_mes,venta_min_mes,compra_max_mes, compra_min_mes**\n",
        "\n",
        "* Generar un nuevo DataFrame **dolar_hist** que contenga las cotizaciones diarias junto con la máxima, la mínima y la promedio del mes. El DF debe tener las  siguientes columas: **año, mes, dia, compra, compra_prom, compra_max_mes, compra_min_mes, venta, venta_prom_mes, venta_max_mes, venta_min_mes**\n",
        "\n",
        "* Generar un nuevo DataFrame **dolar_long** con las siguientes columnas: **año, mes, tipo_cot, cot** donde la variable **tipo_cot** tome los valores literales 'compra' o 'venta' y la varibale **cot** la cotización correspondiente. *Hint: pandas.melt(....)*"
      ],
      "metadata": {
        "id": "_vAseho4j-Dq"
      }
    },
    {
      "cell_type": "code",
      "source": [],
      "metadata": {
        "id": "WRlmtCg-xIah"
      },
      "execution_count": null,
      "outputs": []
    },
    {
      "cell_type": "code",
      "source": [],
      "metadata": {
        "id": "-BwTrygSxIV1"
      },
      "execution_count": null,
      "outputs": []
    },
    {
      "cell_type": "code",
      "source": [],
      "metadata": {
        "id": "02lbf58TxIPy"
      },
      "execution_count": null,
      "outputs": []
    },
    {
      "cell_type": "code",
      "source": [],
      "metadata": {
        "id": "X1ALiE67xIKW"
      },
      "execution_count": null,
      "outputs": []
    },
    {
      "cell_type": "code",
      "source": [],
      "metadata": {
        "id": "swaHs5ssxIED"
      },
      "execution_count": null,
      "outputs": []
    },
    {
      "cell_type": "code",
      "source": [],
      "metadata": {
        "id": "GPMsO2iCxH_O"
      },
      "execution_count": null,
      "outputs": []
    },
    {
      "cell_type": "markdown",
      "source": [
        "#### c) Realizar los siguientes gráficos:\n",
        "* Boxplots comparativos de la cotización de venta por año.\n",
        "* Boxplots comparativos de la cotización de venta por mes para el año 2019.\n",
        "* Gráfico de la serie de tiempo de la cotización de compra y de venta diaria. Plus: Incluir en el gráfico la tendencia promedio mensual.\n",
        "* Gráfico a elección con el dataset **dolar_long** que permita obtener información diferente a la obtenida a partir los gráficos anteriores."
      ],
      "metadata": {
        "id": "kHpKyXhth_tV"
      }
    },
    {
      "cell_type": "code",
      "source": [],
      "metadata": {
        "id": "980-7tpjxJcD"
      },
      "execution_count": null,
      "outputs": []
    },
    {
      "cell_type": "code",
      "source": [],
      "metadata": {
        "id": "tHN2Za3MxJPu"
      },
      "execution_count": null,
      "outputs": []
    },
    {
      "cell_type": "code",
      "source": [],
      "metadata": {
        "id": "xyxkBXWaxJLp"
      },
      "execution_count": null,
      "outputs": []
    },
    {
      "cell_type": "code",
      "source": [],
      "metadata": {
        "id": "QHGQUXFqxJHy"
      },
      "execution_count": null,
      "outputs": []
    },
    {
      "cell_type": "markdown",
      "source": [
        "## Ejercicio 5  - Spotify\n",
        "\n",
        "El conjunto de datos contiene información sobre algunos tracks (canciones) de spotify. Entre los datos disponibles encontramos el género, la popularidad, la duracion y una serie de features de audio como el tempo, la valencia etc.\n",
        "\n",
        "Para conocer en detalle cada atributo consultar el siguiente link:\n",
        "\n",
        "https://developer.spotify.com/documentation/web-api/reference/#/operations/get-several-audio-features"
      ],
      "metadata": {
        "id": "XDqTlPbuOTg3"
      }
    },
    {
      "cell_type": "markdown",
      "source": [
        "### Parte I\n",
        "\n",
        "1.   Realizar una descripción del dataset detallando nombres de las columnas, tipos de datos y descripción de cada una.\n",
        "2.   Mostrar un conjunto reducido de filas (las primeras y las últimas)\n",
        "3.   Reportar cantidad de valores nulos por columna.\n",
        "4.   Variables cualitativas:\n",
        "  *  Sobre las variables de este tipo mostrar los distintos valores existentes y la cantidad de filas correspondientes a cada uno.\n",
        "  Armar un nuevo dataframe con estos datos.\n",
        "  *   Compare en un gráfico de barras la cantidad de filas pertenecientes\n",
        "  a cada valor.¿Es posible realizar este gráfico con un histograma? Explique las diferencias entre estos dos tipos de gráficos.\n",
        "5.   Variables cuantitativas:\n",
        "  * Sobre variables de este tipo calcular las siguientes medidas de resumen, y armar un nuevo dataframe con estos datos:\n",
        "      * Media\n",
        "      * Mediana\n",
        "      * Moda\n",
        "      * Primer y tercer cuartil\n",
        "      * Rango\n",
        "  * Correlación de atributos\n",
        "      * Explorar las variables tomándolas de a pares utilizando un gráfico scatter_matrix\n",
        "      * Calcular la correlación de Pearson y graficar las correlaciones obtenidas en un gráfico de tipo heatmap\n",
        "      ¿Existen variables correlacionadas? ¿Es esperable o no?\n"
      ],
      "metadata": {
        "id": "WO-10OYzYFaN"
      }
    },
    {
      "cell_type": "code",
      "source": [],
      "metadata": {
        "id": "zqXyNxvUGTn1"
      },
      "execution_count": null,
      "outputs": []
    },
    {
      "cell_type": "code",
      "source": [],
      "metadata": {
        "id": "ybl1oTavGTfN"
      },
      "execution_count": null,
      "outputs": []
    },
    {
      "cell_type": "code",
      "source": [],
      "metadata": {
        "id": "iqznHn9-GTZG"
      },
      "execution_count": null,
      "outputs": []
    },
    {
      "cell_type": "code",
      "source": [],
      "metadata": {
        "id": "_WhrzwZVGTS7"
      },
      "execution_count": null,
      "outputs": []
    },
    {
      "cell_type": "code",
      "source": [],
      "metadata": {
        "id": "6FZxtRlBGTMs"
      },
      "execution_count": null,
      "outputs": []
    },
    {
      "cell_type": "code",
      "source": [],
      "metadata": {
        "id": "LjeDyUVsGTGJ"
      },
      "execution_count": null,
      "outputs": []
    },
    {
      "cell_type": "code",
      "source": [],
      "metadata": {
        "id": "80HKsGNlGS-L"
      },
      "execution_count": null,
      "outputs": []
    },
    {
      "cell_type": "code",
      "source": [],
      "metadata": {
        "id": "gGeNCwJhcyua"
      },
      "execution_count": null,
      "outputs": []
    },
    {
      "cell_type": "code",
      "source": [],
      "metadata": {
        "id": "xQtrxr8Vcyni"
      },
      "execution_count": null,
      "outputs": []
    },
    {
      "cell_type": "code",
      "source": [],
      "metadata": {
        "id": "lxV5CGLTcygE"
      },
      "execution_count": null,
      "outputs": []
    },
    {
      "cell_type": "markdown",
      "source": [
        "### Parte II\n",
        "\n",
        "1.   A partir de la exploración realizada plantear dos preguntas de investigación que les resulten interesantes para formular sobre los datos propuestos. Por ejemplo, ¿existe alguna relación\n",
        "entre el género musical y alguna de las otras variables?\n",
        "\n",
        "2.   Elegir dos visualizaciones que permitan abordar sus preguntas de\n",
        "investigación e interpretar los resultados."
      ],
      "metadata": {
        "id": "Co0o29--Yuhd"
      }
    },
    {
      "cell_type": "code",
      "source": [],
      "metadata": {
        "id": "ZFFMJWJkOgp9"
      },
      "execution_count": null,
      "outputs": []
    },
    {
      "cell_type": "code",
      "source": [],
      "metadata": {
        "id": "cgmuq-jEOgXJ"
      },
      "execution_count": null,
      "outputs": []
    }
  ]
}