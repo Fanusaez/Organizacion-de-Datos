{
  "nbformat": 4,
  "nbformat_minor": 0,
  "metadata": {
    "colab": {
      "provenance": [],
      "authorship_tag": "ABX9TyOd14P1opRHATQllmeak5oV",
      "include_colab_link": true
    },
    "kernelspec": {
      "name": "python3",
      "display_name": "Python 3"
    },
    "language_info": {
      "name": "python"
    }
  },
  "cells": [
    {
      "cell_type": "markdown",
      "metadata": {
        "id": "view-in-github",
        "colab_type": "text"
      },
      "source": [
        "<a href=\"https://colab.research.google.com/github/Fanusaez/Organizacion-de-Datos/blob/main/Regresion-Lineal/Lineal_regresion.ipynb\" target=\"_parent\"><img src=\"https://colab.research.google.com/assets/colab-badge.svg\" alt=\"Open In Colab\"/></a>"
      ]
    },
    {
      "cell_type": "markdown",
      "source": [
        "#Librearias a Utilizar"
      ],
      "metadata": {
        "id": "kyiLlETe8Vz_"
      }
    },
    {
      "cell_type": "code",
      "source": [
        "#Manipulacion de datos y funciones matemáticas\n",
        "import pandas as pd\n",
        "import numpy as np\n",
        "\n",
        "#Visualizaciones\n",
        "import seaborn as sns\n",
        "import matplotlib.pyplot as plt\n",
        "\n",
        "#Modelo Lineal\n",
        "from sklearn.linear_model import LinearRegression\n",
        "\n",
        "#Metricas para evaluar modelos\n",
        "from sklearn import metrics\n",
        "\n",
        "from sklearn.preprocessing import PolynomialFeatures\n",
        "from sklearn import linear_model\n",
        "from sklearn.model_selection import train_test_split"
      ],
      "metadata": {
        "id": "K6KYUp1S8dEI"
      },
      "execution_count": 10,
      "outputs": []
    },
    {
      "cell_type": "markdown",
      "source": [
        "#Copiar y pegar los siguientes valores para X e Y respectivamente:\n",
        "X = np.array([[ 1],[ 2],[ 3],[ 4],[ 5],[ 6],[ 7],[ 8], [ 9], [10]])\n",
        "y = np.array([ 45000, 50000, 60000, 80000, 110000, 150000,\n",
        "200000,300000, 500000, 1000000])"
      ],
      "metadata": {
        "id": "YtVmB1qN8Luk"
      }
    },
    {
      "cell_type": "code",
      "source": [
        "x = np.array([[ 1],[ 2],[ 3],[ 4],[ 5],[ 6],[ 7],[ 8], [ 9], [10]])\n",
        "y = np.array([ 45000, 50000, 60000, 80000, 110000, 150000,\n",
        "200000,300000, 500000, 1000000])"
      ],
      "metadata": {
        "id": "hooMfElY8ORV"
      },
      "execution_count": 11,
      "outputs": []
    },
    {
      "cell_type": "markdown",
      "source": [
        "##Graficar los puntos"
      ],
      "metadata": {
        "id": "2cEsH7gr8U00"
      }
    },
    {
      "cell_type": "code",
      "source": [
        "plt.scatter(x,y,label='data', color='blue',alpha=0.5)"
      ],
      "metadata": {
        "colab": {
          "base_uri": "https://localhost:8080/",
          "height": 375
        },
        "id": "hvg9xsGN88oc",
        "outputId": "394949c4-48cc-44cd-bbc7-9e7580d4ba02"
      },
      "execution_count": 12,
      "outputs": [
        {
          "output_type": "execute_result",
          "data": {
            "text/plain": [
              "<matplotlib.collections.PathCollection at 0x7fce36de1ed0>"
            ]
          },
          "metadata": {},
          "execution_count": 12
        },
        {
          "output_type": "display_data",
          "data": {
            "text/plain": [
              "<Figure size 576x396 with 1 Axes>"
            ],
            "image/png": "[encoded data removed]"
          },
          "metadata": {}
        }
      ]
    },
    {
      "cell_type": "markdown",
      "source": [
        "##Entrenar un modelo de regresión lineal para encontrar la recta que mejor ajuste y graficar"
      ],
      "metadata": {
        "id": "qXpYOOu79EfP"
      }
    },
    {
      "cell_type": "code",
      "source": [
        "#Entrenar un modelo de regresión lineal para encontrar la recta que mejor ajuste y graficar\n",
        "\n",
        "#Creo un regresor lineal\n",
        "modelo_lineal_simple = LinearRegression()\n",
        "\n",
        "#Doy el formato adecuado a las variables dependiente e independiente\n",
        "x_=x.reshape(-1, 1)\n",
        "y_=y.reshape(-1, 1)\n",
        "\n",
        "#Ajusto el modelo\n",
        "modelo_lineal_simple.fit(x_,y_)\n",
        "\n",
        "#Parámetros estimados\n",
        "B1_e=round(modelo_lineal_simple.coef_[0][0],2)\n",
        "B0_e=round(modelo_lineal_simple.intercept_[0],2)\n",
        "\n",
        "#Calculo los valores que estima mi modelo lineal simple\n",
        "\n",
        "y_e=B1_e *x_ + B0_e\n",
        "\n",
        "#Grafico las observaciones reales + las estimadas\n",
        "plt.scatter(x,y,label='data', color='blue',alpha=0.5)\n",
        "plt.plot(x_,y_e,label='data', color='red',alpha=1)"
      ],
      "metadata": {
        "colab": {
          "base_uri": "https://localhost:8080/",
          "height": 375
        },
        "id": "cfXLzoYw9SPV",
        "outputId": "2e02a896-6425-4505-90ca-b4019d15b527"
      },
      "execution_count": 13,
      "outputs": [
        {
          "output_type": "execute_result",
          "data": {
            "text/plain": [
              "[<matplotlib.lines.Line2D at 0x7fce36d85410>]"
            ]
          },
          "metadata": {},
          "execution_count": 13
        },
        {
          "output_type": "display_data",
          "data": {
            "text/plain": [
              "<Figure size 576x396 with 1 Axes>"
            ],
            "image/png": "[encoded data removed]"
          },
          "metadata": {}
        }
      ]
    },
    {
      "cell_type": "markdown",
      "source": [
        "##Entrenar un modelo de regresión polinomial y graficar. Utilizar: *from sklearn.preprocessing import PolynomialFeatures*. Usar **grado** **4** y la función: *fit_transform*"
      ],
      "metadata": {
        "id": "ZNh2QSww9VSk"
      }
    },
    {
      "cell_type": "code",
      "source": [
        "x_=x.reshape(-1, 1)\n",
        "y_=y.reshape(-1, 1)\n",
        "\n",
        "#creo la funcion polinomica\n",
        "poly_reg = PolynomialFeatures(degree=4)\n",
        "x_poly = poly_reg.fit_transform(x_)\n",
        "\n",
        "#creo un modelo lineal y lo entreno\n",
        "model = linear_model.LinearRegression()\n",
        "model = model.fit(x_poly, y_)\n",
        "\n",
        "#agarro los ceficintes del polinomio\n",
        "coeficiente = model.coef_\n",
        "intercept = model.intercept_\n",
        "\n",
        "#prediccion en y\n",
        "y_poly = intercept + coeficiente[0][1] * x_ + coeficiente[0][2] * x_**2 + coeficiente[0][3] * x_** 3 + coeficiente[0][4] * x_**4\n",
        "\n",
        "#Dibujo\n",
        "plt.scatter(x,y,label='data', color='blue',alpha=0.5)\n",
        "plt.plot(x_,y_poly,label='data', color='red',alpha=1)"
      ],
      "metadata": {
        "colab": {
          "base_uri": "https://localhost:8080/",
          "height": 375
        },
        "id": "yxuFS4oB9dXB",
        "outputId": "c010ef00-dedc-4127-883e-2f0a9a694786"
      },
      "execution_count": 15,
      "outputs": [
        {
          "output_type": "execute_result",
          "data": {
            "text/plain": [
              "[<matplotlib.lines.Line2D at 0x7fce36253a10>]"
            ]
          },
          "metadata": {},
          "execution_count": 15
        },
        {
          "output_type": "display_data",
          "data": {
            "text/plain": [
              "<Figure size 576x396 with 1 Axes>"
            ],
            "image/png": "[encoded data removed]"
          },
          "metadata": {}
        }
      ]
    }
  ]
}
