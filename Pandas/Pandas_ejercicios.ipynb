{
  "nbformat": 4,
  "nbformat_minor": 0,
  "metadata": {
    "colab": {
      "provenance": [],
      "collapsed_sections": [
        "sNNABvNkj4p3",
        "x7obinwsXj2R",
        "6dvqpEjcNfku",
        "uKPytwH4tcj1",
        "ibIj7N_N0iIF",
        "iFIiN0GSxuYy",
        "9aGM2zeWxgVV",
        "o1a6J6PqN5ZD",
        "KSDtwtHcPj6r",
        "Gvh24ZNYPuBu",
        "V03Yfz5TP7b2",
        "rAtlehumZ6W6",
        "drZ77vd6akIo",
        "Y3K6gpXsc-g4",
        "XDqTlPbuOTg3",
        "WO-10OYzYFaN",
        "Co0o29--Yuhd"
      ],
      "include_colab_link": true
    },
    "kernelspec": {
      "name": "python3",
      "display_name": "Python 3"
    },
    "language_info": {
      "name": "python"
    }
  },
  "cells": [
    {
      "cell_type": "markdown",
      "metadata": {
        "id": "view-in-github",
        "colab_type": "text"
      },
      "source": [
        "<a href=\"https://colab.research.google.com/github/Fanusaez/Organizacion-de-Datos/blob/main/Pandas/Pandas_ejercicios.ipynb\" target=\"_parent\"><img src=\"https://colab.research.google.com/assets/colab-badge.svg\" alt=\"Open In Colab\"/></a>"
      ]
    },
    {
      "cell_type": "markdown",
      "source": [
        "# <center>Organizaci&oacute;n de Datos</center>\n",
        "#### <center>C&aacute;tedra Ing. Rodriguez, Juan Manuel </center>\n",
        "\n",
        "## <center>Introducción a la Ciencia de Datos</center>\n",
        "### <center> Práctica Pandas y Visualizaciones</center>"
      ],
      "metadata": {
        "id": "eG-y4VJqK9HT"
      }
    },
    {
      "cell_type": "code",
      "source": [
        "from google.colab import drive\n",
        "drive.mount(\"/gdrive\")"
      ],
      "metadata": {
        "colab": {
          "base_uri": "https://localhost:8080/"
        },
        "id": "YdHHyTK2Yxtj",
        "outputId": "3401550c-98e1-4ce0-9f1a-58e54b34e07b"
      },
      "execution_count": 111,
      "outputs": [
        {
          "output_type": "stream",
          "name": "stdout",
          "text": [
            "Drive already mounted at /gdrive; to attempt to forcibly remount, call drive.mount(\"/gdrive\", force_remount=True).\n"
          ]
        }
      ]
    },
    {
      "cell_type": "markdown",
      "source": [
        "En esta notebook vamos a trabajar con los siguientes conjuntos de datos (datasets):\n",
        "\n",
        "*   iris.csv\n",
        "*   peliculas.csv\n",
        "*   attacks.csv\n",
        "*   dolar_oficial_ambito.csv\n",
        "*   spotify.csv\n",
        "\n",
        "A continuación se encuentran los ejercicios que tenemos que realizar:"
      ],
      "metadata": {
        "id": "d2EzggmbK9wo"
      }
    },
    {
      "cell_type": "markdown",
      "source": [
        "## Ejercicio 1 - Dataset Iris\n",
        "\n",
        "El conjunto de datos iris contiene medidas de longitud y ancho de pétalos y sépalos de flores de tres especies de Iris recogidas por el botánico Edgar Anderson. Es uno de los datasets más clásicos en el mundo del Machine Learning. Basado en la combinación de estos cuatro rasgos, Fisher desarrolló un modelo discriminante lineal para distinguir entre una especie y otra."
      ],
      "metadata": {
        "id": "fHgtvAnENcec"
      }
    },
    {
      "cell_type": "markdown",
      "source": [
        "#### a) Cargar los datos en un dataframe de pandas.\n",
        "\n",
        "* ¿Cuál es la cantidad de filas del datset? ¿y la cantidad de columnas?\n",
        "* ¿Cuáles son los tipos de datos de cada columna?\n",
        "* Mostrar los datos de las 5 primeras filas\n",
        "* Mostrar si existen datos faltantes (N/A)\n",
        "\n"
      ],
      "metadata": {
        "id": "DzErbCVNVBQ1"
      }
    },
    {
      "cell_type": "code",
      "source": [
        "import pandas as pd\n",
        "\n",
        "iris = pd.read_csv('/gdrive/My Drive/Datasets/iris.csv')\n",
        "iris.shape"
      ],
      "metadata": {
        "colab": {
          "base_uri": "https://localhost:8080/"
        },
        "id": "5coghJA-VBAL",
        "outputId": "1306b76f-93a2-4721-b84c-c481167c44aa"
      },
      "execution_count": 112,
      "outputs": [
        {
          "output_type": "execute_result",
          "data": {
            "text/plain": [
              "(150, 5)"
            ]
          },
          "metadata": {},
          "execution_count": 112
        }
      ]
    },
    {
      "cell_type": "markdown",
      "source": [
        "El dataset contiene 150 filas y 5 columnas"
      ],
      "metadata": {
        "id": "lPghXd9Ulm6W"
      }
    },
    {
      "cell_type": "code",
      "source": [
        "iris.head(5)"
      ],
      "metadata": {
        "id": "nifsTy5CjiBy",
        "outputId": "ad482264-8b57-4023-f726-a25515f8ce3e",
        "colab": {
          "base_uri": "https://localhost:8080/",
          "height": 206
        }
      },
      "execution_count": 113,
      "outputs": [
        {
          "output_type": "execute_result",
          "data": {
            "text/plain": [
              "   sepal_length  sepal_width  petal_length  petal_width species\n",
              "0           5.1          3.5           1.4          0.2  setosa\n",
              "1           4.9          3.0           1.4          0.2  setosa\n",
              "2           4.7          3.2           1.3          0.2  setosa\n",
              "3           4.6          3.1           1.5          0.2  setosa\n",
              "4           5.0          3.6           1.4          0.2  setosa"
            ],
            "text/html": [
              "\n",
              "  <div id=\"df-b9b7dc57-cbe2-4dc0-a777-254c79c47289\">\n",
              "    <div class=\"colab-df-container\">\n",
              "      <div>\n",
              "<style scoped>\n",
              "    .dataframe tbody tr th:only-of-type {\n",
              "        vertical-align: middle;\n",
              "    }\n",
              "\n",
              "    .dataframe tbody tr th {\n",
              "        vertical-align: top;\n",
              "    }\n",
              "\n",
              "    .dataframe thead th {\n",
              "        text-align: right;\n",
              "    }\n",
              "</style>\n",
              "<table border=\"1\" class=\"dataframe\">\n",
              "  <thead>\n",
              "    <tr style=\"text-align: right;\">\n",
              "      <th></th>\n",
              "      <th>sepal_length</th>\n",
              "      <th>sepal_width</th>\n",
              "      <th>petal_length</th>\n",
              "      <th>petal_width</th>\n",
              "      <th>species</th>\n",
              "    </tr>\n",
              "  </thead>\n",
              "  <tbody>\n",
              "    <tr>\n",
              "      <th>0</th>\n",
              "      <td>5.1</td>\n",
              "      <td>3.5</td>\n",
              "      <td>1.4</td>\n",
              "      <td>0.2</td>\n",
              "      <td>setosa</td>\n",
              "    </tr>\n",
              "    <tr>\n",
              "      <th>1</th>\n",
              "      <td>4.9</td>\n",
              "      <td>3.0</td>\n",
              "      <td>1.4</td>\n",
              "      <td>0.2</td>\n",
              "      <td>setosa</td>\n",
              "    </tr>\n",
              "    <tr>\n",
              "      <th>2</th>\n",
              "      <td>4.7</td>\n",
              "      <td>3.2</td>\n",
              "      <td>1.3</td>\n",
              "      <td>0.2</td>\n",
              "      <td>setosa</td>\n",
              "    </tr>\n",
              "    <tr>\n",
              "      <th>3</th>\n",
              "      <td>4.6</td>\n",
              "      <td>3.1</td>\n",
              "      <td>1.5</td>\n",
              "      <td>0.2</td>\n",
              "      <td>setosa</td>\n",
              "    </tr>\n",
              "    <tr>\n",
              "      <th>4</th>\n",
              "      <td>5.0</td>\n",
              "      <td>3.6</td>\n",
              "      <td>1.4</td>\n",
              "      <td>0.2</td>\n",
              "      <td>setosa</td>\n",
              "    </tr>\n",
              "  </tbody>\n",
              "</table>\n",
              "</div>\n",
              "      <button class=\"colab-df-convert\" onclick=\"convertToInteractive('df-b9b7dc57-cbe2-4dc0-a777-254c79c47289')\"\n",
              "              title=\"Convert this dataframe to an interactive table.\"\n",
              "              style=\"display:none;\">\n",
              "        \n",
              "  <svg xmlns=\"http://www.w3.org/2000/svg\" height=\"24px\"viewBox=\"0 0 24 24\"\n",
              "       width=\"24px\">\n",
              "    <path d=\"M0 0h24v24H0V0z\" fill=\"none\"/>\n",
              "    <path d=\"M18.56 5.44l.94 2.06.94-2.06 2.06-.94-2.06-.94-.94-2.06-.94 2.06-2.06.94zm-11 1L8.5 8.5l.94-2.06 2.06-.94-2.06-.94L8.5 2.5l-.94 2.06-2.06.94zm10 10l.94 2.06.94-2.06 2.06-.94-2.06-.94-.94-2.06-.94 2.06-2.06.94z\"/><path d=\"M17.41 7.96l-1.37-1.37c-.4-.4-.92-.59-1.43-.59-.52 0-1.04.2-1.43.59L10.3 9.45l-7.72 7.72c-.78.78-.78 2.05 0 2.83L4 21.41c.39.39.9.59 1.41.59.51 0 1.02-.2 1.41-.59l7.78-7.78 2.81-2.81c.8-.78.8-2.07 0-2.86zM5.41 20L4 18.59l7.72-7.72 1.47 1.35L5.41 20z\"/>\n",
              "  </svg>\n",
              "      </button>\n",
              "      \n",
              "  <style>\n",
              "    .colab-df-container {\n",
              "      display:flex;\n",
              "      flex-wrap:wrap;\n",
              "      gap: 12px;\n",
              "    }\n",
              "\n",
              "    .colab-df-convert {\n",
              "      background-color: #E8F0FE;\n",
              "      border: none;\n",
              "      border-radius: 50%;\n",
              "      cursor: pointer;\n",
              "      display: none;\n",
              "      fill: #1967D2;\n",
              "      height: 32px;\n",
              "      padding: 0 0 0 0;\n",
              "      width: 32px;\n",
              "    }\n",
              "\n",
              "    .colab-df-convert:hover {\n",
              "      background-color: #E2EBFA;\n",
              "      box-shadow: 0px 1px 2px rgba(60, 64, 67, 0.3), 0px 1px 3px 1px rgba(60, 64, 67, 0.15);\n",
              "      fill: #174EA6;\n",
              "    }\n",
              "\n",
              "    [theme=dark] .colab-df-convert {\n",
              "      background-color: #3B4455;\n",
              "      fill: #D2E3FC;\n",
              "    }\n",
              "\n",
              "    [theme=dark] .colab-df-convert:hover {\n",
              "      background-color: #434B5C;\n",
              "      box-shadow: 0px 1px 3px 1px rgba(0, 0, 0, 0.15);\n",
              "      filter: drop-shadow(0px 1px 2px rgba(0, 0, 0, 0.3));\n",
              "      fill: #FFFFFF;\n",
              "    }\n",
              "  </style>\n",
              "\n",
              "      <script>\n",
              "        const buttonEl =\n",
              "          document.querySelector('#df-b9b7dc57-cbe2-4dc0-a777-254c79c47289 button.colab-df-convert');\n",
              "        buttonEl.style.display =\n",
              "          google.colab.kernel.accessAllowed ? 'block' : 'none';\n",
              "\n",
              "        async function convertToInteractive(key) {\n",
              "          const element = document.querySelector('#df-b9b7dc57-cbe2-4dc0-a777-254c79c47289');\n",
              "          const dataTable =\n",
              "            await google.colab.kernel.invokeFunction('convertToInteractive',\n",
              "                                                     [key], {});\n",
              "          if (!dataTable) return;\n",
              "\n",
              "          const docLinkHtml = 'Like what you see? Visit the ' +\n",
              "            '<a target=\"_blank\" href=https://colab.research.google.com/notebooks/data_table.ipynb>data table notebook</a>'\n",
              "            + ' to learn more about interactive tables.';\n",
              "          element.innerHTML = '';\n",
              "          dataTable['output_type'] = 'display_data';\n",
              "          await google.colab.output.renderOutput(dataTable, element);\n",
              "          const docLink = document.createElement('div');\n",
              "          docLink.innerHTML = docLinkHtml;\n",
              "          element.appendChild(docLink);\n",
              "        }\n",
              "      </script>\n",
              "    </div>\n",
              "  </div>\n",
              "  "
            ]
          },
          "metadata": {},
          "execution_count": 113
        }
      ]
    },
    {
      "cell_type": "markdown",
      "source": [
        "Cada observacion corresponde a una flor sobre ella se midieron el largo y el ancho del sepalo y el ancho y el largo del pétalo. También se registra cuál es la especie de cada flor."
      ],
      "metadata": {
        "id": "SRCbVbv7lqpY"
      }
    },
    {
      "cell_type": "code",
      "source": [
        "iris.info()"
      ],
      "metadata": {
        "id": "9LhmuHRWjrM8",
        "outputId": "2e86eb0e-f8dd-4a79-f59e-b7b07f4e0087",
        "colab": {
          "base_uri": "https://localhost:8080/"
        }
      },
      "execution_count": 114,
      "outputs": [
        {
          "output_type": "stream",
          "name": "stdout",
          "text": [
            "<class 'pandas.core.frame.DataFrame'>\n",
            "RangeIndex: 150 entries, 0 to 149\n",
            "Data columns (total 5 columns):\n",
            " #   Column        Non-Null Count  Dtype  \n",
            "---  ------        --------------  -----  \n",
            " 0   sepal_length  150 non-null    float64\n",
            " 1   sepal_width   150 non-null    float64\n",
            " 2   petal_length  150 non-null    float64\n",
            " 3   petal_width   150 non-null    float64\n",
            " 4   species       150 non-null    object \n",
            "dtypes: float64(4), object(1)\n",
            "memory usage: 6.0+ KB\n"
          ]
        }
      ]
    },
    {
      "cell_type": "code",
      "source": [
        "iris.dtypes"
      ],
      "metadata": {
        "id": "eUK7uJpJks2p",
        "outputId": "4f1429e9-cc81-4471-d76a-82da38b32c12",
        "colab": {
          "base_uri": "https://localhost:8080/"
        }
      },
      "execution_count": 115,
      "outputs": [
        {
          "output_type": "execute_result",
          "data": {
            "text/plain": [
              "sepal_length    float64\n",
              "sepal_width     float64\n",
              "petal_length    float64\n",
              "petal_width     float64\n",
              "species          object\n",
              "dtype: object"
            ]
          },
          "metadata": {},
          "execution_count": 115
        }
      ]
    },
    {
      "cell_type": "markdown",
      "source": [
        "En Python, el tipo de datos de texto se conoce como secuencia de caracteres (string). En Pandas se los conoce como objetos (object). Las secuencias de caracteres pueden contener números y / o caracteres. "
      ],
      "metadata": {
        "id": "Vhoc3tsBlSk1"
      }
    },
    {
      "cell_type": "code",
      "source": [
        "iris.isnull().sum()"
      ],
      "metadata": {
        "id": "yrZXuOK4k-L2",
        "outputId": "7d4dbd13-3289-48a3-9609-4464cecd6b3e",
        "colab": {
          "base_uri": "https://localhost:8080/"
        }
      },
      "execution_count": 116,
      "outputs": [
        {
          "output_type": "execute_result",
          "data": {
            "text/plain": [
              "sepal_length    0\n",
              "sepal_width     0\n",
              "petal_length    0\n",
              "petal_width     0\n",
              "species         0\n",
              "dtype: int64"
            ]
          },
          "metadata": {},
          "execution_count": 116
        }
      ]
    },
    {
      "cell_type": "markdown",
      "source": [
        "Podemos ver que ninguna columna tiene valores faltante"
      ],
      "metadata": {
        "id": "e9NDiPdXlRld"
      }
    },
    {
      "cell_type": "markdown",
      "source": [
        "### b) Medidas de resumen\n",
        "\n",
        "* Cuál es la cantidad de observaciones de cada especie\n",
        "* Crear un nuevo dataframe **iris_mean** que contenga el promedio de cada variable del dataset agrupado por especie\n",
        "* Crear un nuevo dataframe **iris_resumen_setosa** que contenga las medidas de resumen para la espcie setosa.(cantidad total, media, minimo,maximo,desviacion estandar y cuantiles) "
      ],
      "metadata": {
        "id": "sNNABvNkj4p3"
      }
    },
    {
      "cell_type": "code",
      "source": [
        "iris.species.value_counts()"
      ],
      "metadata": {
        "id": "E_0wWqtSi4dk",
        "outputId": "440cfa51-f24c-4723-fd4a-48f08e826575",
        "colab": {
          "base_uri": "https://localhost:8080/"
        }
      },
      "execution_count": 117,
      "outputs": [
        {
          "output_type": "execute_result",
          "data": {
            "text/plain": [
              "setosa        50\n",
              "versicolor    50\n",
              "virginica     50\n",
              "Name: species, dtype: int64"
            ]
          },
          "metadata": {},
          "execution_count": 117
        }
      ]
    },
    {
      "cell_type": "markdown",
      "source": [
        "Vemos que hay 50 flores de cada especie"
      ],
      "metadata": {
        "id": "BhZXbvPonJbo"
      }
    },
    {
      "cell_type": "code",
      "source": [
        "iris_mean=iris.groupby(['species']).mean()\n",
        "iris_mean"
      ],
      "metadata": {
        "id": "xWOR5sDhh3z9",
        "outputId": "34f0f1be-d4ff-452e-c5fe-17429e3a0d3b",
        "colab": {
          "base_uri": "https://localhost:8080/",
          "height": 175
        }
      },
      "execution_count": 118,
      "outputs": [
        {
          "output_type": "execute_result",
          "data": {
            "text/plain": [
              "            sepal_length  sepal_width  petal_length  petal_width\n",
              "species                                                         \n",
              "setosa             5.006        3.428         1.462        0.246\n",
              "versicolor         5.936        2.770         4.260        1.326\n",
              "virginica          6.588        2.974         5.552        2.026"
            ],
            "text/html": [
              "\n",
              "  <div id=\"df-548de111-6b67-4651-9372-72a8ea9a2315\">\n",
              "    <div class=\"colab-df-container\">\n",
              "      <div>\n",
              "<style scoped>\n",
              "    .dataframe tbody tr th:only-of-type {\n",
              "        vertical-align: middle;\n",
              "    }\n",
              "\n",
              "    .dataframe tbody tr th {\n",
              "        vertical-align: top;\n",
              "    }\n",
              "\n",
              "    .dataframe thead th {\n",
              "        text-align: right;\n",
              "    }\n",
              "</style>\n",
              "<table border=\"1\" class=\"dataframe\">\n",
              "  <thead>\n",
              "    <tr style=\"text-align: right;\">\n",
              "      <th></th>\n",
              "      <th>sepal_length</th>\n",
              "      <th>sepal_width</th>\n",
              "      <th>petal_length</th>\n",
              "      <th>petal_width</th>\n",
              "    </tr>\n",
              "    <tr>\n",
              "      <th>species</th>\n",
              "      <th></th>\n",
              "      <th></th>\n",
              "      <th></th>\n",
              "      <th></th>\n",
              "    </tr>\n",
              "  </thead>\n",
              "  <tbody>\n",
              "    <tr>\n",
              "      <th>setosa</th>\n",
              "      <td>5.006</td>\n",
              "      <td>3.428</td>\n",
              "      <td>1.462</td>\n",
              "      <td>0.246</td>\n",
              "    </tr>\n",
              "    <tr>\n",
              "      <th>versicolor</th>\n",
              "      <td>5.936</td>\n",
              "      <td>2.770</td>\n",
              "      <td>4.260</td>\n",
              "      <td>1.326</td>\n",
              "    </tr>\n",
              "    <tr>\n",
              "      <th>virginica</th>\n",
              "      <td>6.588</td>\n",
              "      <td>2.974</td>\n",
              "      <td>5.552</td>\n",
              "      <td>2.026</td>\n",
              "    </tr>\n",
              "  </tbody>\n",
              "</table>\n",
              "</div>\n",
              "      <button class=\"colab-df-convert\" onclick=\"convertToInteractive('df-548de111-6b67-4651-9372-72a8ea9a2315')\"\n",
              "              title=\"Convert this dataframe to an interactive table.\"\n",
              "              style=\"display:none;\">\n",
              "        \n",
              "  <svg xmlns=\"http://www.w3.org/2000/svg\" height=\"24px\"viewBox=\"0 0 24 24\"\n",
              "       width=\"24px\">\n",
              "    <path d=\"M0 0h24v24H0V0z\" fill=\"none\"/>\n",
              "    <path d=\"M18.56 5.44l.94 2.06.94-2.06 2.06-.94-2.06-.94-.94-2.06-.94 2.06-2.06.94zm-11 1L8.5 8.5l.94-2.06 2.06-.94-2.06-.94L8.5 2.5l-.94 2.06-2.06.94zm10 10l.94 2.06.94-2.06 2.06-.94-2.06-.94-.94-2.06-.94 2.06-2.06.94z\"/><path d=\"M17.41 7.96l-1.37-1.37c-.4-.4-.92-.59-1.43-.59-.52 0-1.04.2-1.43.59L10.3 9.45l-7.72 7.72c-.78.78-.78 2.05 0 2.83L4 21.41c.39.39.9.59 1.41.59.51 0 1.02-.2 1.41-.59l7.78-7.78 2.81-2.81c.8-.78.8-2.07 0-2.86zM5.41 20L4 18.59l7.72-7.72 1.47 1.35L5.41 20z\"/>\n",
              "  </svg>\n",
              "      </button>\n",
              "      \n",
              "  <style>\n",
              "    .colab-df-container {\n",
              "      display:flex;\n",
              "      flex-wrap:wrap;\n",
              "      gap: 12px;\n",
              "    }\n",
              "\n",
              "    .colab-df-convert {\n",
              "      background-color: #E8F0FE;\n",
              "      border: none;\n",
              "      border-radius: 50%;\n",
              "      cursor: pointer;\n",
              "      display: none;\n",
              "      fill: #1967D2;\n",
              "      height: 32px;\n",
              "      padding: 0 0 0 0;\n",
              "      width: 32px;\n",
              "    }\n",
              "\n",
              "    .colab-df-convert:hover {\n",
              "      background-color: #E2EBFA;\n",
              "      box-shadow: 0px 1px 2px rgba(60, 64, 67, 0.3), 0px 1px 3px 1px rgba(60, 64, 67, 0.15);\n",
              "      fill: #174EA6;\n",
              "    }\n",
              "\n",
              "    [theme=dark] .colab-df-convert {\n",
              "      background-color: #3B4455;\n",
              "      fill: #D2E3FC;\n",
              "    }\n",
              "\n",
              "    [theme=dark] .colab-df-convert:hover {\n",
              "      background-color: #434B5C;\n",
              "      box-shadow: 0px 1px 3px 1px rgba(0, 0, 0, 0.15);\n",
              "      filter: drop-shadow(0px 1px 2px rgba(0, 0, 0, 0.3));\n",
              "      fill: #FFFFFF;\n",
              "    }\n",
              "  </style>\n",
              "\n",
              "      <script>\n",
              "        const buttonEl =\n",
              "          document.querySelector('#df-548de111-6b67-4651-9372-72a8ea9a2315 button.colab-df-convert');\n",
              "        buttonEl.style.display =\n",
              "          google.colab.kernel.accessAllowed ? 'block' : 'none';\n",
              "\n",
              "        async function convertToInteractive(key) {\n",
              "          const element = document.querySelector('#df-548de111-6b67-4651-9372-72a8ea9a2315');\n",
              "          const dataTable =\n",
              "            await google.colab.kernel.invokeFunction('convertToInteractive',\n",
              "                                                     [key], {});\n",
              "          if (!dataTable) return;\n",
              "\n",
              "          const docLinkHtml = 'Like what you see? Visit the ' +\n",
              "            '<a target=\"_blank\" href=https://colab.research.google.com/notebooks/data_table.ipynb>data table notebook</a>'\n",
              "            + ' to learn more about interactive tables.';\n",
              "          element.innerHTML = '';\n",
              "          dataTable['output_type'] = 'display_data';\n",
              "          await google.colab.output.renderOutput(dataTable, element);\n",
              "          const docLink = document.createElement('div');\n",
              "          docLink.innerHTML = docLinkHtml;\n",
              "          element.appendChild(docLink);\n",
              "        }\n",
              "      </script>\n",
              "    </div>\n",
              "  </div>\n",
              "  "
            ]
          },
          "metadata": {},
          "execution_count": 118
        }
      ]
    },
    {
      "cell_type": "markdown",
      "source": [
        "La especie setosa tiene el menor ancho promedio de pétalo y la especie virgínica el mayor largo promedio de sépalo.\n"
      ],
      "metadata": {
        "id": "Eg14rxa0nMXb"
      }
    },
    {
      "cell_type": "code",
      "source": [
        "iris_setosa_resumen=iris[iris.species=='setosa'].describe()\n",
        "iris_setosa_resumen"
      ],
      "metadata": {
        "id": "W4grqfBfgo1S",
        "outputId": "b097bc77-184d-4400-8f2f-857026a74932",
        "colab": {
          "base_uri": "https://localhost:8080/",
          "height": 300
        }
      },
      "execution_count": 119,
      "outputs": [
        {
          "output_type": "execute_result",
          "data": {
            "text/plain": [
              "       sepal_length  sepal_width  petal_length  petal_width\n",
              "count      50.00000    50.000000     50.000000    50.000000\n",
              "mean        5.00600     3.428000      1.462000     0.246000\n",
              "std         0.35249     0.379064      0.173664     0.105386\n",
              "min         4.30000     2.300000      1.000000     0.100000\n",
              "25%         4.80000     3.200000      1.400000     0.200000\n",
              "50%         5.00000     3.400000      1.500000     0.200000\n",
              "75%         5.20000     3.675000      1.575000     0.300000\n",
              "max         5.80000     4.400000      1.900000     0.600000"
            ],
            "text/html": [
              "\n",
              "  <div id=\"df-299c67ff-2623-4fc3-8d37-b3d26dfa88e6\">\n",
              "    <div class=\"colab-df-container\">\n",
              "      <div>\n",
              "<style scoped>\n",
              "    .dataframe tbody tr th:only-of-type {\n",
              "        vertical-align: middle;\n",
              "    }\n",
              "\n",
              "    .dataframe tbody tr th {\n",
              "        vertical-align: top;\n",
              "    }\n",
              "\n",
              "    .dataframe thead th {\n",
              "        text-align: right;\n",
              "    }\n",
              "</style>\n",
              "<table border=\"1\" class=\"dataframe\">\n",
              "  <thead>\n",
              "    <tr style=\"text-align: right;\">\n",
              "      <th></th>\n",
              "      <th>sepal_length</th>\n",
              "      <th>sepal_width</th>\n",
              "      <th>petal_length</th>\n",
              "      <th>petal_width</th>\n",
              "    </tr>\n",
              "  </thead>\n",
              "  <tbody>\n",
              "    <tr>\n",
              "      <th>count</th>\n",
              "      <td>50.00000</td>\n",
              "      <td>50.000000</td>\n",
              "      <td>50.000000</td>\n",
              "      <td>50.000000</td>\n",
              "    </tr>\n",
              "    <tr>\n",
              "      <th>mean</th>\n",
              "      <td>5.00600</td>\n",
              "      <td>3.428000</td>\n",
              "      <td>1.462000</td>\n",
              "      <td>0.246000</td>\n",
              "    </tr>\n",
              "    <tr>\n",
              "      <th>std</th>\n",
              "      <td>0.35249</td>\n",
              "      <td>0.379064</td>\n",
              "      <td>0.173664</td>\n",
              "      <td>0.105386</td>\n",
              "    </tr>\n",
              "    <tr>\n",
              "      <th>min</th>\n",
              "      <td>4.30000</td>\n",
              "      <td>2.300000</td>\n",
              "      <td>1.000000</td>\n",
              "      <td>0.100000</td>\n",
              "    </tr>\n",
              "    <tr>\n",
              "      <th>25%</th>\n",
              "      <td>4.80000</td>\n",
              "      <td>3.200000</td>\n",
              "      <td>1.400000</td>\n",
              "      <td>0.200000</td>\n",
              "    </tr>\n",
              "    <tr>\n",
              "      <th>50%</th>\n",
              "      <td>5.00000</td>\n",
              "      <td>3.400000</td>\n",
              "      <td>1.500000</td>\n",
              "      <td>0.200000</td>\n",
              "    </tr>\n",
              "    <tr>\n",
              "      <th>75%</th>\n",
              "      <td>5.20000</td>\n",
              "      <td>3.675000</td>\n",
              "      <td>1.575000</td>\n",
              "      <td>0.300000</td>\n",
              "    </tr>\n",
              "    <tr>\n",
              "      <th>max</th>\n",
              "      <td>5.80000</td>\n",
              "      <td>4.400000</td>\n",
              "      <td>1.900000</td>\n",
              "      <td>0.600000</td>\n",
              "    </tr>\n",
              "  </tbody>\n",
              "</table>\n",
              "</div>\n",
              "      <button class=\"colab-df-convert\" onclick=\"convertToInteractive('df-299c67ff-2623-4fc3-8d37-b3d26dfa88e6')\"\n",
              "              title=\"Convert this dataframe to an interactive table.\"\n",
              "              style=\"display:none;\">\n",
              "        \n",
              "  <svg xmlns=\"http://www.w3.org/2000/svg\" height=\"24px\"viewBox=\"0 0 24 24\"\n",
              "       width=\"24px\">\n",
              "    <path d=\"M0 0h24v24H0V0z\" fill=\"none\"/>\n",
              "    <path d=\"M18.56 5.44l.94 2.06.94-2.06 2.06-.94-2.06-.94-.94-2.06-.94 2.06-2.06.94zm-11 1L8.5 8.5l.94-2.06 2.06-.94-2.06-.94L8.5 2.5l-.94 2.06-2.06.94zm10 10l.94 2.06.94-2.06 2.06-.94-2.06-.94-.94-2.06-.94 2.06-2.06.94z\"/><path d=\"M17.41 7.96l-1.37-1.37c-.4-.4-.92-.59-1.43-.59-.52 0-1.04.2-1.43.59L10.3 9.45l-7.72 7.72c-.78.78-.78 2.05 0 2.83L4 21.41c.39.39.9.59 1.41.59.51 0 1.02-.2 1.41-.59l7.78-7.78 2.81-2.81c.8-.78.8-2.07 0-2.86zM5.41 20L4 18.59l7.72-7.72 1.47 1.35L5.41 20z\"/>\n",
              "  </svg>\n",
              "      </button>\n",
              "      \n",
              "  <style>\n",
              "    .colab-df-container {\n",
              "      display:flex;\n",
              "      flex-wrap:wrap;\n",
              "      gap: 12px;\n",
              "    }\n",
              "\n",
              "    .colab-df-convert {\n",
              "      background-color: #E8F0FE;\n",
              "      border: none;\n",
              "      border-radius: 50%;\n",
              "      cursor: pointer;\n",
              "      display: none;\n",
              "      fill: #1967D2;\n",
              "      height: 32px;\n",
              "      padding: 0 0 0 0;\n",
              "      width: 32px;\n",
              "    }\n",
              "\n",
              "    .colab-df-convert:hover {\n",
              "      background-color: #E2EBFA;\n",
              "      box-shadow: 0px 1px 2px rgba(60, 64, 67, 0.3), 0px 1px 3px 1px rgba(60, 64, 67, 0.15);\n",
              "      fill: #174EA6;\n",
              "    }\n",
              "\n",
              "    [theme=dark] .colab-df-convert {\n",
              "      background-color: #3B4455;\n",
              "      fill: #D2E3FC;\n",
              "    }\n",
              "\n",
              "    [theme=dark] .colab-df-convert:hover {\n",
              "      background-color: #434B5C;\n",
              "      box-shadow: 0px 1px 3px 1px rgba(0, 0, 0, 0.15);\n",
              "      filter: drop-shadow(0px 1px 2px rgba(0, 0, 0, 0.3));\n",
              "      fill: #FFFFFF;\n",
              "    }\n",
              "  </style>\n",
              "\n",
              "      <script>\n",
              "        const buttonEl =\n",
              "          document.querySelector('#df-299c67ff-2623-4fc3-8d37-b3d26dfa88e6 button.colab-df-convert');\n",
              "        buttonEl.style.display =\n",
              "          google.colab.kernel.accessAllowed ? 'block' : 'none';\n",
              "\n",
              "        async function convertToInteractive(key) {\n",
              "          const element = document.querySelector('#df-299c67ff-2623-4fc3-8d37-b3d26dfa88e6');\n",
              "          const dataTable =\n",
              "            await google.colab.kernel.invokeFunction('convertToInteractive',\n",
              "                                                     [key], {});\n",
              "          if (!dataTable) return;\n",
              "\n",
              "          const docLinkHtml = 'Like what you see? Visit the ' +\n",
              "            '<a target=\"_blank\" href=https://colab.research.google.com/notebooks/data_table.ipynb>data table notebook</a>'\n",
              "            + ' to learn more about interactive tables.';\n",
              "          element.innerHTML = '';\n",
              "          dataTable['output_type'] = 'display_data';\n",
              "          await google.colab.output.renderOutput(dataTable, element);\n",
              "          const docLink = document.createElement('div');\n",
              "          docLink.innerHTML = docLinkHtml;\n",
              "          element.appendChild(docLink);\n",
              "        }\n",
              "      </script>\n",
              "    </div>\n",
              "  </div>\n",
              "  "
            ]
          },
          "metadata": {},
          "execution_count": 119
        }
      ]
    },
    {
      "cell_type": "markdown",
      "source": [
        "Para la especie setosa podemos ver que las mediciones del sépalo son las que presentan mayor desvío estándar "
      ],
      "metadata": {
        "id": "2OQF_dcGnb4y"
      }
    },
    {
      "cell_type": "markdown",
      "source": [
        "###c)  Realizar los siguientes gráficos:\n",
        "* grafico de barras para la cantidad de obsevaciones por especie\n",
        "* scatter plot el largo del sépalo y el ancho del sépalo coloreando las observaciones por especie.\n",
        "* scatter plot el largo del pétalo y el ancho del pétalo coloreando las observaciones por especie.\n",
        "* histograma del largo del petalo para cada especie\n",
        "* boxplot comparativos por especie para cada variable"
      ],
      "metadata": {
        "id": "P4FnbwGqW676"
      }
    },
    {
      "cell_type": "code",
      "source": [
        "#Vamos a usar seaborn y matplotlib\n",
        "import seaborn as sns\n",
        "from matplotlib import pyplot as plt"
      ],
      "metadata": {
        "id": "e9mV2u_qoY3D"
      },
      "execution_count": 120,
      "outputs": []
    },
    {
      "cell_type": "code",
      "source": [
        "#Grafico de Barras\n",
        "sns.countplot(x='species', data=iris, )\n",
        "plt.show()"
      ],
      "metadata": {
        "id": "hhjMgIqFoI_K",
        "outputId": "e9502747-96d5-4686-9853-e0b4b965c7a6",
        "colab": {
          "base_uri": "https://localhost:8080/",
          "height": 279
        }
      },
      "execution_count": 121,
      "outputs": [
        {
          "output_type": "display_data",
          "data": {
            "text/plain": [
              "<Figure size 432x288 with 1 Axes>"
            ],
            "image/png": "[encoded data removed]"
          },
          "metadata": {}
        }
      ]
    },
    {
      "cell_type": "code",
      "source": [
        "#Grafico scatter plot sepalos\n",
        "sns.set_style(\"whitegrid\")\n",
        "sns.FacetGrid(iris, hue =\"species\", height = 5).map(plt.scatter,'sepal_length','sepal_width').add_legend()\n"
      ],
      "metadata": {
        "id": "aUgJKAS2eo5x",
        "outputId": "547176c9-2bec-4576-b511-6aea8edd4cab",
        "colab": {
          "base_uri": "https://localhost:8080/",
          "height": 386
        }
      },
      "execution_count": 122,
      "outputs": [
        {
          "output_type": "execute_result",
          "data": {
            "text/plain": [
              "<seaborn.axisgrid.FacetGrid at 0x7f9159c696d0>"
            ]
          },
          "metadata": {},
          "execution_count": 122
        },
        {
          "output_type": "display_data",
          "data": {
            "text/plain": [
              "<Figure size 444.75x360 with 1 Axes>"
            ],
            "image/png": "[encoded data removed]"
          },
          "metadata": {}
        }
      ]
    },
    {
      "cell_type": "markdown",
      "source": [
        "¿Qué podemos ver en este scatter plot? \n",
        "\n",
        "La especie Setosa tiene sépalos más pequeños pero anchos de sépalos más grandes.\n",
        "\n",
        "La especie Virginica tiene sépalos más largos pero anchos de sépalos más pequeños."
      ],
      "metadata": {
        "id": "UEIz5x8TowHR"
      }
    },
    {
      "cell_type": "code",
      "source": [
        "#Grafico scatter plot petalos\n",
        "sns.scatterplot(x='petal_length', y='petal_width',hue='species', data=iris )\n",
        "plt.legend(bbox_to_anchor=(1, 1), loc=2)\n",
        "plt.show()"
      ],
      "metadata": {
        "id": "w_u1Umllpdr8",
        "outputId": "dc5a5355-9e62-43d5-d1ad-4ddf0e74b214",
        "colab": {
          "base_uri": "https://localhost:8080/",
          "height": 280
        }
      },
      "execution_count": 123,
      "outputs": [
        {
          "output_type": "display_data",
          "data": {
            "text/plain": [
              "<Figure size 432x288 with 1 Axes>"
            ],
            "image/png": "[encoded data removed]"
          },
          "metadata": {}
        }
      ]
    },
    {
      "cell_type": "markdown",
      "source": [
        "¿Qué podemos ver en este scatter plot? \n",
        "\n",
        "La especie Setosa tiene pétalos de menor longitud y anchura.\n",
        "\n",
        "La especie Virginica tiene la mayor longitud y anchura de los pétalos."
      ],
      "metadata": {
        "id": "Gv_zMWHQpQOt"
      }
    },
    {
      "cell_type": "code",
      "source": [
        "import warnings\n",
        "warnings.simplefilter(action='ignore', category=FutureWarning)\n",
        "\n",
        "#Histograma del largo del petalo\n",
        "plot = sns.FacetGrid(iris, hue=\"species\",height=4)\n",
        "plot.map(sns.distplot, \"petal_length\").add_legend()"
      ],
      "metadata": {
        "id": "1Tt4gULmrjHe",
        "outputId": "5ea02519-cf32-4874-e008-e9dc9fa0cdf6",
        "colab": {
          "base_uri": "https://localhost:8080/",
          "height": 314
        }
      },
      "execution_count": 124,
      "outputs": [
        {
          "output_type": "execute_result",
          "data": {
            "text/plain": [
              "<seaborn.axisgrid.FacetGrid at 0x7f9159cb9050>"
            ]
          },
          "metadata": {},
          "execution_count": 124
        },
        {
          "output_type": "display_data",
          "data": {
            "text/plain": [
              "<Figure size 372.75x288 with 1 Axes>"
            ],
            "image/png": "[encoded data removed]"
          },
          "metadata": {}
        }
      ]
    },
    {
      "cell_type": "markdown",
      "source": [
        "¿Qué podemos ver en este gráfico? ...\n"
      ],
      "metadata": {
        "id": "kn7Da-ZksJDG"
      }
    },
    {
      "cell_type": "code",
      "source": [
        "#Grafico boxplots \n",
        "\n",
        "plt.figure(figsize=(10,10))\n",
        "      \n",
        "plt.subplot(221)\n",
        "sns.boxplot(x=\"species\", y='sepal_length', data=iris)\n",
        "  \n",
        "plt.subplot(222)\n",
        "sns.boxplot(x=\"species\", y='sepal_width', data=iris)\n",
        "  \n",
        "plt.subplot(223)\n",
        "sns.boxplot(x=\"species\", y='petal_length', data=iris)\n",
        "  \n",
        "plt.subplot(224)\n",
        "sns.boxplot(x=\"species\", y='petal_width', data=iris)\n",
        "  \n",
        "plt.show()"
      ],
      "metadata": {
        "id": "AMMulBZAslLy",
        "outputId": "900889bf-56b6-4f2b-bc34-ec31d4111b3c",
        "colab": {
          "base_uri": "https://localhost:8080/",
          "height": 608
        }
      },
      "execution_count": 125,
      "outputs": [
        {
          "output_type": "display_data",
          "data": {
            "text/plain": [
              "<Figure size 720x720 with 4 Axes>"
            ],
            "image/png": "[encoded data removed]"
          },
          "metadata": {}
        }
      ]
    },
    {
      "cell_type": "markdown",
      "source": [
        "### Bonus track!"
      ],
      "metadata": {
        "id": "6h4j0QaxqXP7"
      }
    },
    {
      "cell_type": "code",
      "source": [
        "# Gráfico de a pares\n",
        "sns.pairplot(iris, hue='species', height=2)\n"
      ],
      "metadata": {
        "id": "RwyPogWLqYxz",
        "outputId": "789f335e-846e-4df2-e323-0b8bb552052f",
        "colab": {
          "base_uri": "https://localhost:8080/",
          "height": 602
        }
      },
      "execution_count": 126,
      "outputs": [
        {
          "output_type": "execute_result",
          "data": {
            "text/plain": [
              "<seaborn.axisgrid.PairGrid at 0x7f915a0f9850>"
            ]
          },
          "metadata": {},
          "execution_count": 126
        },
        {
          "output_type": "display_data",
          "data": {
            "text/plain": [
              "<Figure size 660.75x576 with 20 Axes>"
            ],
            "image/png": "[encoded data removed]"
          },
          "metadata": {}
        }
      ]
    },
    {
      "cell_type": "markdown",
      "source": [
        "####  Realizar un gráfico a elección sobre el conjunto de datos indicando que información se puede obtener de dicha visualización"
      ],
      "metadata": {
        "id": "x7obinwsXj2R"
      }
    },
    {
      "cell_type": "code",
      "source": [],
      "metadata": {
        "id": "VqrqMfuKNe2K"
      },
      "execution_count": 126,
      "outputs": []
    },
    {
      "cell_type": "code",
      "source": [],
      "metadata": {
        "id": "9sbOitCrW-cR"
      },
      "execution_count": 126,
      "outputs": []
    },
    {
      "cell_type": "markdown",
      "source": [
        "## Ejercicio 2 - Dataset Películas\n",
        "\n",
        "El conjunto de datos contiene información de IMDB sobre algunas películas estrenadas durante los años 1995 y 1996. Se coonce el título de las películas, el pesupuesto invertido, los ingresos obtenidos y la popularidad entre otros."
      ],
      "metadata": {
        "id": "6dvqpEjcNfku"
      }
    },
    {
      "cell_type": "markdown",
      "source": [
        "#### a) Cargar el dataset en un dataframe de pandas\n",
        "\n",
        "* ¿Cuál es la cantidad de filas del datset? ¿y la cantidad de columnas?\n",
        "* Listar los nombres de las columnas y sus tipos de dato.\n",
        "* Mostrar los datos de las 5 primeras filas\n",
        "* Mostrar si existen datos faltantes (N/A)\n",
        "¿Qué porcentaje representan del total de datos?"
      ],
      "metadata": {
        "id": "uKPytwH4tcj1"
      }
    },
    {
      "cell_type": "code",
      "source": [
        "ds_pelis = pd.read_csv('/gdrive/My Drive/Datasets/peliculas.csv')\n",
        "ds_pelis.shape"
      ],
      "metadata": {
        "id": "FjdZpkF_6-8d",
        "outputId": "3f8776a9-3a9f-4716-beb5-0a32ef3dab31",
        "colab": {
          "base_uri": "https://localhost:8080/"
        }
      },
      "execution_count": 127,
      "outputs": [
        {
          "output_type": "execute_result",
          "data": {
            "text/plain": [
              "(49, 24)"
            ]
          },
          "metadata": {},
          "execution_count": 127
        }
      ]
    },
    {
      "cell_type": "code",
      "source": [
        "ds_pelis.dtypes"
      ],
      "metadata": {
        "id": "01RPVrMQDGut",
        "outputId": "c12c7b96-fd29-4eb1-c3e0-43f99db4bfdf",
        "colab": {
          "base_uri": "https://localhost:8080/"
        }
      },
      "execution_count": 128,
      "outputs": [
        {
          "output_type": "execute_result",
          "data": {
            "text/plain": [
              "adult                       bool\n",
              "belongs_to_collection     object\n",
              "budget                   float64\n",
              "genres                    object\n",
              "homepage                  object\n",
              "id                         int64\n",
              "imdb_id                   object\n",
              "original_language         object\n",
              "original_title            object\n",
              "overview                  object\n",
              "popularity               float64\n",
              "poster_path               object\n",
              "production_companies      object\n",
              "production_countries      object\n",
              "release_date              object\n",
              "revenue                    int64\n",
              "runtime                    int64\n",
              "spoken_languages          object\n",
              "status                    object\n",
              "tagline                   object\n",
              "title                     object\n",
              "video                       bool\n",
              "vote_average             float64\n",
              "vote_count                 int64\n",
              "dtype: object"
            ]
          },
          "metadata": {},
          "execution_count": 128
        }
      ]
    },
    {
      "cell_type": "code",
      "source": [
        "ds_pelis.head()"
      ],
      "metadata": {
        "id": "YedA4fikDGkq",
        "outputId": "0d709747-1524-484d-b7e1-f53c0e78a1e8",
        "colab": {
          "base_uri": "https://localhost:8080/",
          "height": 751
        }
      },
      "execution_count": 129,
      "outputs": [
        {
          "output_type": "execute_result",
          "data": {
            "text/plain": [
              "   adult                              belongs_to_collection      budget  \\\n",
              "0  False  {'id': 10194, 'name': 'Toy Story Collection', ...  30000000.0   \n",
              "1  False                                                NaN  65000000.0   \n",
              "2  False  {'id': 119050, 'name': 'Grumpy Old Men Collect...         NaN   \n",
              "3  False                                                NaN  16000000.0   \n",
              "4  False  {'id': 96871, 'name': 'Father of the Bride Col...         0.0   \n",
              "\n",
              "                                              genres  \\\n",
              "0  [{'id': 16, 'name': 'Animation'}, {'id': 35, '...   \n",
              "1  [{'id': 12, 'name': 'Adventure'}, {'id': 14, '...   \n",
              "2  [{'id': 10749, 'name': 'Romance'}, {'id': 35, ...   \n",
              "3  [{'id': 35, 'name': 'Comedy'}, {'id': 18, 'nam...   \n",
              "4                     [{'id': 35, 'name': 'Comedy'}]   \n",
              "\n",
              "                               homepage     id    imdb_id original_language  \\\n",
              "0  http://toystory.disney.com/toy-story    862  tt0114709                en   \n",
              "1                                   NaN   8844  tt0113497                en   \n",
              "2                                   NaN  15602  tt0113228                en   \n",
              "3                                   NaN  31357  tt0114885                en   \n",
              "4                                   NaN  11862  tt0113041                en   \n",
              "\n",
              "                original_title  \\\n",
              "0                    Toy Story   \n",
              "1                      Jumanji   \n",
              "2             Grumpier Old Men   \n",
              "3            Waiting to Exhale   \n",
              "4  Father of the Bride Part II   \n",
              "\n",
              "                                            overview  ...  release_date  \\\n",
              "0  Led by Woody, Andy's toys live happily in his ...  ...    1995-10-30   \n",
              "1  When siblings Judy and Peter discover an encha...  ...    1995-12-15   \n",
              "2  A family wedding reignites the ancient feud be...  ...    1995-12-22   \n",
              "3  Cheated on, mistreated and stepped on, the wom...  ...    1995-12-22   \n",
              "4  Just when George Banks has recovered from his ...  ...    1995-02-10   \n",
              "\n",
              "     revenue runtime                                   spoken_languages  \\\n",
              "0  373554033      81           [{'iso_639_1': 'en', 'name': 'English'}]   \n",
              "1  262797249     104  [{'iso_639_1': 'en', 'name': 'English'}, {'iso...   \n",
              "2          0     101           [{'iso_639_1': 'en', 'name': 'English'}]   \n",
              "3   81452156     127           [{'iso_639_1': 'en', 'name': 'English'}]   \n",
              "4   76578911     106           [{'iso_639_1': 'en', 'name': 'English'}]   \n",
              "\n",
              "     status                                            tagline  \\\n",
              "0  Released                                                NaN   \n",
              "1  Released          Roll the dice and unleash the excitement!   \n",
              "2  Released  Still Yelling. Still Fighting. Still Ready for...   \n",
              "3  Released  Friends are the people who let you be yourself...   \n",
              "4  Released  Just When His World Is Back To Normal... He's ...   \n",
              "\n",
              "                         title  video vote_average vote_count  \n",
              "0                    Toy Story  False          7.7       5415  \n",
              "1                      Jumanji  False          6.9       2413  \n",
              "2             Grumpier Old Men  False          6.5         92  \n",
              "3            Waiting to Exhale  False          6.1         34  \n",
              "4  Father of the Bride Part II  False          5.7        173  \n",
              "\n",
              "[5 rows x 24 columns]"
            ],
            "text/html": [
              "\n",
              "  <div id=\"df-cee98bb7-39cd-41a8-b7f5-dc09af997198\">\n",
              "    <div class=\"colab-df-container\">\n",
              "      <div>\n",
              "<style scoped>\n",
              "    .dataframe tbody tr th:only-of-type {\n",
              "        vertical-align: middle;\n",
              "    }\n",
              "\n",
              "    .dataframe tbody tr th {\n",
              "        vertical-align: top;\n",
              "    }\n",
              "\n",
              "    .dataframe thead th {\n",
              "        text-align: right;\n",
              "    }\n",
              "</style>\n",
              "<table border=\"1\" class=\"dataframe\">\n",
              "  <thead>\n",
              "    <tr style=\"text-align: right;\">\n",
              "      <th></th>\n",
              "      <th>adult</th>\n",
              "      <th>belongs_to_collection</th>\n",
              "      <th>budget</th>\n",
              "      <th>genres</th>\n",
              "      <th>homepage</th>\n",
              "      <th>id</th>\n",
              "      <th>imdb_id</th>\n",
              "      <th>original_language</th>\n",
              "      <th>original_title</th>\n",
              "      <th>overview</th>\n",
              "      <th>...</th>\n",
              "      <th>release_date</th>\n",
              "      <th>revenue</th>\n",
              "      <th>runtime</th>\n",
              "      <th>spoken_languages</th>\n",
              "      <th>status</th>\n",
              "      <th>tagline</th>\n",
              "      <th>title</th>\n",
              "      <th>video</th>\n",
              "      <th>vote_average</th>\n",
              "      <th>vote_count</th>\n",
              "    </tr>\n",
              "  </thead>\n",
              "  <tbody>\n",
              "    <tr>\n",
              "      <th>0</th>\n",
              "      <td>False</td>\n",
              "      <td>{'id': 10194, 'name': 'Toy Story Collection', ...</td>\n",
              "      <td>30000000.0</td>\n",
              "      <td>[{'id': 16, 'name': 'Animation'}, {'id': 35, '...</td>\n",
              "      <td>http://toystory.disney.com/toy-story</td>\n",
              "      <td>862</td>\n",
              "      <td>tt0114709</td>\n",
              "      <td>en</td>\n",
              "      <td>Toy Story</td>\n",
              "      <td>Led by Woody, Andy's toys live happily in his ...</td>\n",
              "      <td>...</td>\n",
              "      <td>1995-10-30</td>\n",
              "      <td>373554033</td>\n",
              "      <td>81</td>\n",
              "      <td>[{'iso_639_1': 'en', 'name': 'English'}]</td>\n",
              "      <td>Released</td>\n",
              "      <td>NaN</td>\n",
              "      <td>Toy Story</td>\n",
              "      <td>False</td>\n",
              "      <td>7.7</td>\n",
              "      <td>5415</td>\n",
              "    </tr>\n",
              "    <tr>\n",
              "      <th>1</th>\n",
              "      <td>False</td>\n",
              "      <td>NaN</td>\n",
              "      <td>65000000.0</td>\n",
              "      <td>[{'id': 12, 'name': 'Adventure'}, {'id': 14, '...</td>\n",
              "      <td>NaN</td>\n",
              "      <td>8844</td>\n",
              "      <td>tt0113497</td>\n",
              "      <td>en</td>\n",
              "      <td>Jumanji</td>\n",
              "      <td>When siblings Judy and Peter discover an encha...</td>\n",
              "      <td>...</td>\n",
              "      <td>1995-12-15</td>\n",
              "      <td>262797249</td>\n",
              "      <td>104</td>\n",
              "      <td>[{'iso_639_1': 'en', 'name': 'English'}, {'iso...</td>\n",
              "      <td>Released</td>\n",
              "      <td>Roll the dice and unleash the excitement!</td>\n",
              "      <td>Jumanji</td>\n",
              "      <td>False</td>\n",
              "      <td>6.9</td>\n",
              "      <td>2413</td>\n",
              "    </tr>\n",
              "    <tr>\n",
              "      <th>2</th>\n",
              "      <td>False</td>\n",
              "      <td>{'id': 119050, 'name': 'Grumpy Old Men Collect...</td>\n",
              "      <td>NaN</td>\n",
              "      <td>[{'id': 10749, 'name': 'Romance'}, {'id': 35, ...</td>\n",
              "      <td>NaN</td>\n",
              "      <td>15602</td>\n",
              "      <td>tt0113228</td>\n",
              "      <td>en</td>\n",
              "      <td>Grumpier Old Men</td>\n",
              "      <td>A family wedding reignites the ancient feud be...</td>\n",
              "      <td>...</td>\n",
              "      <td>1995-12-22</td>\n",
              "      <td>0</td>\n",
              "      <td>101</td>\n",
              "      <td>[{'iso_639_1': 'en', 'name': 'English'}]</td>\n",
              "      <td>Released</td>\n",
              "      <td>Still Yelling. Still Fighting. Still Ready for...</td>\n",
              "      <td>Grumpier Old Men</td>\n",
              "      <td>False</td>\n",
              "      <td>6.5</td>\n",
              "      <td>92</td>\n",
              "    </tr>\n",
              "    <tr>\n",
              "      <th>3</th>\n",
              "      <td>False</td>\n",
              "      <td>NaN</td>\n",
              "      <td>16000000.0</td>\n",
              "      <td>[{'id': 35, 'name': 'Comedy'}, {'id': 18, 'nam...</td>\n",
              "      <td>NaN</td>\n",
              "      <td>31357</td>\n",
              "      <td>tt0114885</td>\n",
              "      <td>en</td>\n",
              "      <td>Waiting to Exhale</td>\n",
              "      <td>Cheated on, mistreated and stepped on, the wom...</td>\n",
              "      <td>...</td>\n",
              "      <td>1995-12-22</td>\n",
              "      <td>81452156</td>\n",
              "      <td>127</td>\n",
              "      <td>[{'iso_639_1': 'en', 'name': 'English'}]</td>\n",
              "      <td>Released</td>\n",
              "      <td>Friends are the people who let you be yourself...</td>\n",
              "      <td>Waiting to Exhale</td>\n",
              "      <td>False</td>\n",
              "      <td>6.1</td>\n",
              "      <td>34</td>\n",
              "    </tr>\n",
              "    <tr>\n",
              "      <th>4</th>\n",
              "      <td>False</td>\n",
              "      <td>{'id': 96871, 'name': 'Father of the Bride Col...</td>\n",
              "      <td>0.0</td>\n",
              "      <td>[{'id': 35, 'name': 'Comedy'}]</td>\n",
              "      <td>NaN</td>\n",
              "      <td>11862</td>\n",
              "      <td>tt0113041</td>\n",
              "      <td>en</td>\n",
              "      <td>Father of the Bride Part II</td>\n",
              "      <td>Just when George Banks has recovered from his ...</td>\n",
              "      <td>...</td>\n",
              "      <td>1995-02-10</td>\n",
              "      <td>76578911</td>\n",
              "      <td>106</td>\n",
              "      <td>[{'iso_639_1': 'en', 'name': 'English'}]</td>\n",
              "      <td>Released</td>\n",
              "      <td>Just When His World Is Back To Normal... He's ...</td>\n",
              "      <td>Father of the Bride Part II</td>\n",
              "      <td>False</td>\n",
              "      <td>5.7</td>\n",
              "      <td>173</td>\n",
              "    </tr>\n",
              "  </tbody>\n",
              "</table>\n",
              "<p>5 rows × 24 columns</p>\n",
              "</div>\n",
              "      <button class=\"colab-df-convert\" onclick=\"convertToInteractive('df-cee98bb7-39cd-41a8-b7f5-dc09af997198')\"\n",
              "              title=\"Convert this dataframe to an interactive table.\"\n",
              "              style=\"display:none;\">\n",
              "        \n",
              "  <svg xmlns=\"http://www.w3.org/2000/svg\" height=\"24px\"viewBox=\"0 0 24 24\"\n",
              "       width=\"24px\">\n",
              "    <path d=\"M0 0h24v24H0V0z\" fill=\"none\"/>\n",
              "    <path d=\"M18.56 5.44l.94 2.06.94-2.06 2.06-.94-2.06-.94-.94-2.06-.94 2.06-2.06.94zm-11 1L8.5 8.5l.94-2.06 2.06-.94-2.06-.94L8.5 2.5l-.94 2.06-2.06.94zm10 10l.94 2.06.94-2.06 2.06-.94-2.06-.94-.94-2.06-.94 2.06-2.06.94z\"/><path d=\"M17.41 7.96l-1.37-1.37c-.4-.4-.92-.59-1.43-.59-.52 0-1.04.2-1.43.59L10.3 9.45l-7.72 7.72c-.78.78-.78 2.05 0 2.83L4 21.41c.39.39.9.59 1.41.59.51 0 1.02-.2 1.41-.59l7.78-7.78 2.81-2.81c.8-.78.8-2.07 0-2.86zM5.41 20L4 18.59l7.72-7.72 1.47 1.35L5.41 20z\"/>\n",
              "  </svg>\n",
              "      </button>\n",
              "      \n",
              "  <style>\n",
              "    .colab-df-container {\n",
              "      display:flex;\n",
              "      flex-wrap:wrap;\n",
              "      gap: 12px;\n",
              "    }\n",
              "\n",
              "    .colab-df-convert {\n",
              "      background-color: #E8F0FE;\n",
              "      border: none;\n",
              "      border-radius: 50%;\n",
              "      cursor: pointer;\n",
              "      display: none;\n",
              "      fill: #1967D2;\n",
              "      height: 32px;\n",
              "      padding: 0 0 0 0;\n",
              "      width: 32px;\n",
              "    }\n",
              "\n",
              "    .colab-df-convert:hover {\n",
              "      background-color: #E2EBFA;\n",
              "      box-shadow: 0px 1px 2px rgba(60, 64, 67, 0.3), 0px 1px 3px 1px rgba(60, 64, 67, 0.15);\n",
              "      fill: #174EA6;\n",
              "    }\n",
              "\n",
              "    [theme=dark] .colab-df-convert {\n",
              "      background-color: #3B4455;\n",
              "      fill: #D2E3FC;\n",
              "    }\n",
              "\n",
              "    [theme=dark] .colab-df-convert:hover {\n",
              "      background-color: #434B5C;\n",
              "      box-shadow: 0px 1px 3px 1px rgba(0, 0, 0, 0.15);\n",
              "      filter: drop-shadow(0px 1px 2px rgba(0, 0, 0, 0.3));\n",
              "      fill: #FFFFFF;\n",
              "    }\n",
              "  </style>\n",
              "\n",
              "      <script>\n",
              "        const buttonEl =\n",
              "          document.querySelector('#df-cee98bb7-39cd-41a8-b7f5-dc09af997198 button.colab-df-convert');\n",
              "        buttonEl.style.display =\n",
              "          google.colab.kernel.accessAllowed ? 'block' : 'none';\n",
              "\n",
              "        async function convertToInteractive(key) {\n",
              "          const element = document.querySelector('#df-cee98bb7-39cd-41a8-b7f5-dc09af997198');\n",
              "          const dataTable =\n",
              "            await google.colab.kernel.invokeFunction('convertToInteractive',\n",
              "                                                     [key], {});\n",
              "          if (!dataTable) return;\n",
              "\n",
              "          const docLinkHtml = 'Like what you see? Visit the ' +\n",
              "            '<a target=\"_blank\" href=https://colab.research.google.com/notebooks/data_table.ipynb>data table notebook</a>'\n",
              "            + ' to learn more about interactive tables.';\n",
              "          element.innerHTML = '';\n",
              "          dataTable['output_type'] = 'display_data';\n",
              "          await google.colab.output.renderOutput(dataTable, element);\n",
              "          const docLink = document.createElement('div');\n",
              "          docLink.innerHTML = docLinkHtml;\n",
              "          element.appendChild(docLink);\n",
              "        }\n",
              "      </script>\n",
              "    </div>\n",
              "  </div>\n",
              "  "
            ]
          },
          "metadata": {},
          "execution_count": 129
        }
      ]
    },
    {
      "cell_type": "code",
      "source": [
        "nans = ds_pelis.isna().sum().sum()\n",
        "cant_de_datos = ds_pelis.shape[0] * ds_pelis.shape[1]\n",
        "porcentaje_nans = (nans * 100) / cant_de_datos\n",
        "porcentaje_nans"
      ],
      "metadata": {
        "id": "WDgDpgSADGSd",
        "outputId": "67604827-88d5-46cc-a8bb-fe9743b2968d",
        "colab": {
          "base_uri": "https://localhost:8080/"
        }
      },
      "execution_count": 130,
      "outputs": [
        {
          "output_type": "execute_result",
          "data": {
            "text/plain": [
              "9.438775510204081"
            ]
          },
          "metadata": {},
          "execution_count": 130
        }
      ]
    },
    {
      "cell_type": "markdown",
      "source": [
        "#### b)  Generar un nuevo dataframe **dataset_peliculas** que contenga las siguientes columnas: \n",
        "\n",
        "* *original_title*\n",
        "* *title* \n",
        "* *adult*\n",
        "* *original_language*\n",
        "* *popularity*\n",
        "* *budget*\n",
        "* *release_date*\n",
        "* *revenue*\n",
        "* *vote_count*\n",
        "\n",
        "Verificar si existen datos faltantes, en ese caso eliminar las filas que los contengan. \n",
        "\n",
        "A partir del atributo release_date generar dos nuevos atributos **year y month**\n",
        "\n",
        "Guardar el dataset en un archivo csv con el nombre dataset_peliculas."
      ],
      "metadata": {
        "id": "ibIj7N_N0iIF"
      }
    },
    {
      "cell_type": "code",
      "source": [
        "\n",
        "ds_peliculas = ds_pelis.copy()\n",
        "ds_peliculas = ds_peliculas[[\"original_title\", \"title\", \"adult\", \"original_language\", \"popularity\", \"budget\", \"release_date\", \"revenue\", \"vote_count\"]]\n",
        "ds_peliculas.head()"
      ],
      "metadata": {
        "id": "gyAlOCc51RgN",
        "outputId": "defb678a-d29f-4257-98bc-45c887f45d0e",
        "colab": {
          "base_uri": "https://localhost:8080/",
          "height": 206
        }
      },
      "execution_count": 131,
      "outputs": [
        {
          "output_type": "execute_result",
          "data": {
            "text/plain": [
              "                original_title                        title  adult  \\\n",
              "0                    Toy Story                    Toy Story  False   \n",
              "1                      Jumanji                      Jumanji  False   \n",
              "2             Grumpier Old Men             Grumpier Old Men  False   \n",
              "3            Waiting to Exhale            Waiting to Exhale  False   \n",
              "4  Father of the Bride Part II  Father of the Bride Part II  False   \n",
              "\n",
              "  original_language  popularity      budget release_date    revenue  \\\n",
              "0                en   21.946943  30000000.0   1995-10-30  373554033   \n",
              "1                en   17.015539  65000000.0   1995-12-15  262797249   \n",
              "2                en   11.712900         NaN   1995-12-22          0   \n",
              "3                en    3.859495  16000000.0   1995-12-22   81452156   \n",
              "4                en    8.387519         0.0   1995-02-10   76578911   \n",
              "\n",
              "   vote_count  \n",
              "0        5415  \n",
              "1        2413  \n",
              "2          92  \n",
              "3          34  \n",
              "4         173  "
            ],
            "text/html": [
              "\n",
              "  <div id=\"df-9374044c-13f6-4bd1-a6d0-38b66e458ddc\">\n",
              "    <div class=\"colab-df-container\">\n",
              "      <div>\n",
              "<style scoped>\n",
              "    .dataframe tbody tr th:only-of-type {\n",
              "        vertical-align: middle;\n",
              "    }\n",
              "\n",
              "    .dataframe tbody tr th {\n",
              "        vertical-align: top;\n",
              "    }\n",
              "\n",
              "    .dataframe thead th {\n",
              "        text-align: right;\n",
              "    }\n",
              "</style>\n",
              "<table border=\"1\" class=\"dataframe\">\n",
              "  <thead>\n",
              "    <tr style=\"text-align: right;\">\n",
              "      <th></th>\n",
              "      <th>original_title</th>\n",
              "      <th>title</th>\n",
              "      <th>adult</th>\n",
              "      <th>original_language</th>\n",
              "      <th>popularity</th>\n",
              "      <th>budget</th>\n",
              "      <th>release_date</th>\n",
              "      <th>revenue</th>\n",
              "      <th>vote_count</th>\n",
              "    </tr>\n",
              "  </thead>\n",
              "  <tbody>\n",
              "    <tr>\n",
              "      <th>0</th>\n",
              "      <td>Toy Story</td>\n",
              "      <td>Toy Story</td>\n",
              "      <td>False</td>\n",
              "      <td>en</td>\n",
              "      <td>21.946943</td>\n",
              "      <td>30000000.0</td>\n",
              "      <td>1995-10-30</td>\n",
              "      <td>373554033</td>\n",
              "      <td>5415</td>\n",
              "    </tr>\n",
              "    <tr>\n",
              "      <th>1</th>\n",
              "      <td>Jumanji</td>\n",
              "      <td>Jumanji</td>\n",
              "      <td>False</td>\n",
              "      <td>en</td>\n",
              "      <td>17.015539</td>\n",
              "      <td>65000000.0</td>\n",
              "      <td>1995-12-15</td>\n",
              "      <td>262797249</td>\n",
              "      <td>2413</td>\n",
              "    </tr>\n",
              "    <tr>\n",
              "      <th>2</th>\n",
              "      <td>Grumpier Old Men</td>\n",
              "      <td>Grumpier Old Men</td>\n",
              "      <td>False</td>\n",
              "      <td>en</td>\n",
              "      <td>11.712900</td>\n",
              "      <td>NaN</td>\n",
              "      <td>1995-12-22</td>\n",
              "      <td>0</td>\n",
              "      <td>92</td>\n",
              "    </tr>\n",
              "    <tr>\n",
              "      <th>3</th>\n",
              "      <td>Waiting to Exhale</td>\n",
              "      <td>Waiting to Exhale</td>\n",
              "      <td>False</td>\n",
              "      <td>en</td>\n",
              "      <td>3.859495</td>\n",
              "      <td>16000000.0</td>\n",
              "      <td>1995-12-22</td>\n",
              "      <td>81452156</td>\n",
              "      <td>34</td>\n",
              "    </tr>\n",
              "    <tr>\n",
              "      <th>4</th>\n",
              "      <td>Father of the Bride Part II</td>\n",
              "      <td>Father of the Bride Part II</td>\n",
              "      <td>False</td>\n",
              "      <td>en</td>\n",
              "      <td>8.387519</td>\n",
              "      <td>0.0</td>\n",
              "      <td>1995-02-10</td>\n",
              "      <td>76578911</td>\n",
              "      <td>173</td>\n",
              "    </tr>\n",
              "  </tbody>\n",
              "</table>\n",
              "</div>\n",
              "      <button class=\"colab-df-convert\" onclick=\"convertToInteractive('df-9374044c-13f6-4bd1-a6d0-38b66e458ddc')\"\n",
              "              title=\"Convert this dataframe to an interactive table.\"\n",
              "              style=\"display:none;\">\n",
              "        \n",
              "  <svg xmlns=\"http://www.w3.org/2000/svg\" height=\"24px\"viewBox=\"0 0 24 24\"\n",
              "       width=\"24px\">\n",
              "    <path d=\"M0 0h24v24H0V0z\" fill=\"none\"/>\n",
              "    <path d=\"M18.56 5.44l.94 2.06.94-2.06 2.06-.94-2.06-.94-.94-2.06-.94 2.06-2.06.94zm-11 1L8.5 8.5l.94-2.06 2.06-.94-2.06-.94L8.5 2.5l-.94 2.06-2.06.94zm10 10l.94 2.06.94-2.06 2.06-.94-2.06-.94-.94-2.06-.94 2.06-2.06.94z\"/><path d=\"M17.41 7.96l-1.37-1.37c-.4-.4-.92-.59-1.43-.59-.52 0-1.04.2-1.43.59L10.3 9.45l-7.72 7.72c-.78.78-.78 2.05 0 2.83L4 21.41c.39.39.9.59 1.41.59.51 0 1.02-.2 1.41-.59l7.78-7.78 2.81-2.81c.8-.78.8-2.07 0-2.86zM5.41 20L4 18.59l7.72-7.72 1.47 1.35L5.41 20z\"/>\n",
              "  </svg>\n",
              "      </button>\n",
              "      \n",
              "  <style>\n",
              "    .colab-df-container {\n",
              "      display:flex;\n",
              "      flex-wrap:wrap;\n",
              "      gap: 12px;\n",
              "    }\n",
              "\n",
              "    .colab-df-convert {\n",
              "      background-color: #E8F0FE;\n",
              "      border: none;\n",
              "      border-radius: 50%;\n",
              "      cursor: pointer;\n",
              "      display: none;\n",
              "      fill: #1967D2;\n",
              "      height: 32px;\n",
              "      padding: 0 0 0 0;\n",
              "      width: 32px;\n",
              "    }\n",
              "\n",
              "    .colab-df-convert:hover {\n",
              "      background-color: #E2EBFA;\n",
              "      box-shadow: 0px 1px 2px rgba(60, 64, 67, 0.3), 0px 1px 3px 1px rgba(60, 64, 67, 0.15);\n",
              "      fill: #174EA6;\n",
              "    }\n",
              "\n",
              "    [theme=dark] .colab-df-convert {\n",
              "      background-color: #3B4455;\n",
              "      fill: #D2E3FC;\n",
              "    }\n",
              "\n",
              "    [theme=dark] .colab-df-convert:hover {\n",
              "      background-color: #434B5C;\n",
              "      box-shadow: 0px 1px 3px 1px rgba(0, 0, 0, 0.15);\n",
              "      filter: drop-shadow(0px 1px 2px rgba(0, 0, 0, 0.3));\n",
              "      fill: #FFFFFF;\n",
              "    }\n",
              "  </style>\n",
              "\n",
              "      <script>\n",
              "        const buttonEl =\n",
              "          document.querySelector('#df-9374044c-13f6-4bd1-a6d0-38b66e458ddc button.colab-df-convert');\n",
              "        buttonEl.style.display =\n",
              "          google.colab.kernel.accessAllowed ? 'block' : 'none';\n",
              "\n",
              "        async function convertToInteractive(key) {\n",
              "          const element = document.querySelector('#df-9374044c-13f6-4bd1-a6d0-38b66e458ddc');\n",
              "          const dataTable =\n",
              "            await google.colab.kernel.invokeFunction('convertToInteractive',\n",
              "                                                     [key], {});\n",
              "          if (!dataTable) return;\n",
              "\n",
              "          const docLinkHtml = 'Like what you see? Visit the ' +\n",
              "            '<a target=\"_blank\" href=https://colab.research.google.com/notebooks/data_table.ipynb>data table notebook</a>'\n",
              "            + ' to learn more about interactive tables.';\n",
              "          element.innerHTML = '';\n",
              "          dataTable['output_type'] = 'display_data';\n",
              "          await google.colab.output.renderOutput(dataTable, element);\n",
              "          const docLink = document.createElement('div');\n",
              "          docLink.innerHTML = docLinkHtml;\n",
              "          element.appendChild(docLink);\n",
              "        }\n",
              "      </script>\n",
              "    </div>\n",
              "  </div>\n",
              "  "
            ]
          },
          "metadata": {},
          "execution_count": 131
        }
      ]
    },
    {
      "cell_type": "code",
      "source": [
        "\n",
        "ds_peliculas.dropna(inplace = True)\n",
        "ds_peliculas.isna().sum().sum()"
      ],
      "metadata": {
        "id": "4SrgyyWp2t0S",
        "outputId": "6d305a01-dd45-4a9e-f26c-f9b8ea5c55b2",
        "colab": {
          "base_uri": "https://localhost:8080/"
        }
      },
      "execution_count": 132,
      "outputs": [
        {
          "output_type": "execute_result",
          "data": {
            "text/plain": [
              "0"
            ]
          },
          "metadata": {},
          "execution_count": 132
        }
      ]
    },
    {
      "cell_type": "code",
      "source": [
        "ds_peliculas.to_csv('ds_peliculas.csv')"
      ],
      "metadata": {
        "id": "3NMrV3suCAPG"
      },
      "execution_count": 133,
      "outputs": []
    },
    {
      "cell_type": "markdown",
      "source": [
        "#### c) Responder las siguientes preguntas sobre los datos del  **dataset_peliculas** generado en el punto b.\n",
        "\n",
        "* ¿Cuál es el idioma más popular de las películas?\n",
        "Generar un dataframe **idiomas** que contenga una columna *idioma* y otra *cantidad* donde se pueda ver la cantidad de veces que aparece cada idioma en en el dataset. \n",
        "\n",
        "* ¿Qué películas tienen un *revenue* mayor al promedio?\n",
        "Generar un dataframe **mayor_revenue** que contenga una columna *titulo* y otra *revenue* con las películas que tengan un revenue mayor al promedio.\n",
        "\n",
        "* ¿Cuál fue la rentabilidad (revenue - budget) de cada película?\n",
        "Generar un dataframe **rentabilidad** conlas columnas *titulo, rentabildad, revenue y budget** ordenado de mayor a menor. \n",
        "¿Qué peliculas fueron las más rentables?\n",
        "¿Cuáles no fueron rentables?\n"
      ],
      "metadata": {
        "id": "iFIiN0GSxuYy"
      }
    },
    {
      "cell_type": "code",
      "source": [
        "idiomas = ds_peliculas[\"original_language\"].value_counts().to_frame().reset_index().rename(columns={\"index\" : \"idioma\"})\n",
        "idiomas"
      ],
      "metadata": {
        "id": "JF3nGQfIxty0",
        "outputId": "598d6911-af52-4bb0-ab10-f115c0a023a8",
        "colab": {
          "base_uri": "https://localhost:8080/",
          "height": 112
        }
      },
      "execution_count": 134,
      "outputs": [
        {
          "output_type": "execute_result",
          "data": {
            "text/plain": [
              "  idioma  original_language\n",
              "0     en                 32\n",
              "1     fr                  1"
            ],
            "text/html": [
              "\n",
              "  <div id=\"df-758145c1-a432-402e-bd6a-20e87d90e73f\">\n",
              "    <div class=\"colab-df-container\">\n",
              "      <div>\n",
              "<style scoped>\n",
              "    .dataframe tbody tr th:only-of-type {\n",
              "        vertical-align: middle;\n",
              "    }\n",
              "\n",
              "    .dataframe tbody tr th {\n",
              "        vertical-align: top;\n",
              "    }\n",
              "\n",
              "    .dataframe thead th {\n",
              "        text-align: right;\n",
              "    }\n",
              "</style>\n",
              "<table border=\"1\" class=\"dataframe\">\n",
              "  <thead>\n",
              "    <tr style=\"text-align: right;\">\n",
              "      <th></th>\n",
              "      <th>idioma</th>\n",
              "      <th>original_language</th>\n",
              "    </tr>\n",
              "  </thead>\n",
              "  <tbody>\n",
              "    <tr>\n",
              "      <th>0</th>\n",
              "      <td>en</td>\n",
              "      <td>32</td>\n",
              "    </tr>\n",
              "    <tr>\n",
              "      <th>1</th>\n",
              "      <td>fr</td>\n",
              "      <td>1</td>\n",
              "    </tr>\n",
              "  </tbody>\n",
              "</table>\n",
              "</div>\n",
              "      <button class=\"colab-df-convert\" onclick=\"convertToInteractive('df-758145c1-a432-402e-bd6a-20e87d90e73f')\"\n",
              "              title=\"Convert this dataframe to an interactive table.\"\n",
              "              style=\"display:none;\">\n",
              "        \n",
              "  <svg xmlns=\"http://www.w3.org/2000/svg\" height=\"24px\"viewBox=\"0 0 24 24\"\n",
              "       width=\"24px\">\n",
              "    <path d=\"M0 0h24v24H0V0z\" fill=\"none\"/>\n",
              "    <path d=\"M18.56 5.44l.94 2.06.94-2.06 2.06-.94-2.06-.94-.94-2.06-.94 2.06-2.06.94zm-11 1L8.5 8.5l.94-2.06 2.06-.94-2.06-.94L8.5 2.5l-.94 2.06-2.06.94zm10 10l.94 2.06.94-2.06 2.06-.94-2.06-.94-.94-2.06-.94 2.06-2.06.94z\"/><path d=\"M17.41 7.96l-1.37-1.37c-.4-.4-.92-.59-1.43-.59-.52 0-1.04.2-1.43.59L10.3 9.45l-7.72 7.72c-.78.78-.78 2.05 0 2.83L4 21.41c.39.39.9.59 1.41.59.51 0 1.02-.2 1.41-.59l7.78-7.78 2.81-2.81c.8-.78.8-2.07 0-2.86zM5.41 20L4 18.59l7.72-7.72 1.47 1.35L5.41 20z\"/>\n",
              "  </svg>\n",
              "      </button>\n",
              "      \n",
              "  <style>\n",
              "    .colab-df-container {\n",
              "      display:flex;\n",
              "      flex-wrap:wrap;\n",
              "      gap: 12px;\n",
              "    }\n",
              "\n",
              "    .colab-df-convert {\n",
              "      background-color: #E8F0FE;\n",
              "      border: none;\n",
              "      border-radius: 50%;\n",
              "      cursor: pointer;\n",
              "      display: none;\n",
              "      fill: #1967D2;\n",
              "      height: 32px;\n",
              "      padding: 0 0 0 0;\n",
              "      width: 32px;\n",
              "    }\n",
              "\n",
              "    .colab-df-convert:hover {\n",
              "      background-color: #E2EBFA;\n",
              "      box-shadow: 0px 1px 2px rgba(60, 64, 67, 0.3), 0px 1px 3px 1px rgba(60, 64, 67, 0.15);\n",
              "      fill: #174EA6;\n",
              "    }\n",
              "\n",
              "    [theme=dark] .colab-df-convert {\n",
              "      background-color: #3B4455;\n",
              "      fill: #D2E3FC;\n",
              "    }\n",
              "\n",
              "    [theme=dark] .colab-df-convert:hover {\n",
              "      background-color: #434B5C;\n",
              "      box-shadow: 0px 1px 3px 1px rgba(0, 0, 0, 0.15);\n",
              "      filter: drop-shadow(0px 1px 2px rgba(0, 0, 0, 0.3));\n",
              "      fill: #FFFFFF;\n",
              "    }\n",
              "  </style>\n",
              "\n",
              "      <script>\n",
              "        const buttonEl =\n",
              "          document.querySelector('#df-758145c1-a432-402e-bd6a-20e87d90e73f button.colab-df-convert');\n",
              "        buttonEl.style.display =\n",
              "          google.colab.kernel.accessAllowed ? 'block' : 'none';\n",
              "\n",
              "        async function convertToInteractive(key) {\n",
              "          const element = document.querySelector('#df-758145c1-a432-402e-bd6a-20e87d90e73f');\n",
              "          const dataTable =\n",
              "            await google.colab.kernel.invokeFunction('convertToInteractive',\n",
              "                                                     [key], {});\n",
              "          if (!dataTable) return;\n",
              "\n",
              "          const docLinkHtml = 'Like what you see? Visit the ' +\n",
              "            '<a target=\"_blank\" href=https://colab.research.google.com/notebooks/data_table.ipynb>data table notebook</a>'\n",
              "            + ' to learn more about interactive tables.';\n",
              "          element.innerHTML = '';\n",
              "          dataTable['output_type'] = 'display_data';\n",
              "          await google.colab.output.renderOutput(dataTable, element);\n",
              "          const docLink = document.createElement('div');\n",
              "          docLink.innerHTML = docLinkHtml;\n",
              "          element.appendChild(docLink);\n",
              "        }\n",
              "      </script>\n",
              "    </div>\n",
              "  </div>\n",
              "  "
            ]
          },
          "metadata": {},
          "execution_count": 134
        }
      ]
    },
    {
      "cell_type": "code",
      "source": [
        "promedio = ds_peliculas[\"revenue\"].mean()\n",
        "ds_promedio = ds_peliculas[[\"title\", \"revenue\"]]\n",
        "ds_promedio = ds_promedio[ds_promedio[\"revenue\"] > promedio]\n",
        "ds_promedio\n"
      ],
      "metadata": {
        "id": "cEeqBg1aB9Zm",
        "outputId": "92db11e3-5f54-4ce9-ab4e-8a71ce462a8c",
        "colab": {
          "base_uri": "https://localhost:8080/",
          "height": 488
        }
      },
      "execution_count": 135,
      "outputs": [
        {
          "output_type": "execute_result",
          "data": {
            "text/plain": [
              "                             title    revenue\n",
              "0                        Toy Story  373554033\n",
              "1                          Jumanji  262797249\n",
              "5                             Heat  187436818\n",
              "9                        GoldenEye  352194034\n",
              "15                          Casino  116112375\n",
              "16           Sense and Sensibility  135000000\n",
              "18  Ace Ventura: When Nature Calls  212385533\n",
              "20                      Get Shorty  115101622\n",
              "29                 Dangerous Minds  180000000\n",
              "30                  Twelve Monkeys  168840000\n",
              "32                            Babe  254134910\n",
              "42                   Mortal Kombat  122195920\n",
              "45                           Se7en  327311859\n",
              "46                      Pocahontas  346079773"
            ],
            "text/html": [
              "\n",
              "  <div id=\"df-e702b86f-782e-4ccf-8cb6-b82aa1493339\">\n",
              "    <div class=\"colab-df-container\">\n",
              "      <div>\n",
              "<style scoped>\n",
              "    .dataframe tbody tr th:only-of-type {\n",
              "        vertical-align: middle;\n",
              "    }\n",
              "\n",
              "    .dataframe tbody tr th {\n",
              "        vertical-align: top;\n",
              "    }\n",
              "\n",
              "    .dataframe thead th {\n",
              "        text-align: right;\n",
              "    }\n",
              "</style>\n",
              "<table border=\"1\" class=\"dataframe\">\n",
              "  <thead>\n",
              "    <tr style=\"text-align: right;\">\n",
              "      <th></th>\n",
              "      <th>title</th>\n",
              "      <th>revenue</th>\n",
              "    </tr>\n",
              "  </thead>\n",
              "  <tbody>\n",
              "    <tr>\n",
              "      <th>0</th>\n",
              "      <td>Toy Story</td>\n",
              "      <td>373554033</td>\n",
              "    </tr>\n",
              "    <tr>\n",
              "      <th>1</th>\n",
              "      <td>Jumanji</td>\n",
              "      <td>262797249</td>\n",
              "    </tr>\n",
              "    <tr>\n",
              "      <th>5</th>\n",
              "      <td>Heat</td>\n",
              "      <td>187436818</td>\n",
              "    </tr>\n",
              "    <tr>\n",
              "      <th>9</th>\n",
              "      <td>GoldenEye</td>\n",
              "      <td>352194034</td>\n",
              "    </tr>\n",
              "    <tr>\n",
              "      <th>15</th>\n",
              "      <td>Casino</td>\n",
              "      <td>116112375</td>\n",
              "    </tr>\n",
              "    <tr>\n",
              "      <th>16</th>\n",
              "      <td>Sense and Sensibility</td>\n",
              "      <td>135000000</td>\n",
              "    </tr>\n",
              "    <tr>\n",
              "      <th>18</th>\n",
              "      <td>Ace Ventura: When Nature Calls</td>\n",
              "      <td>212385533</td>\n",
              "    </tr>\n",
              "    <tr>\n",
              "      <th>20</th>\n",
              "      <td>Get Shorty</td>\n",
              "      <td>115101622</td>\n",
              "    </tr>\n",
              "    <tr>\n",
              "      <th>29</th>\n",
              "      <td>Dangerous Minds</td>\n",
              "      <td>180000000</td>\n",
              "    </tr>\n",
              "    <tr>\n",
              "      <th>30</th>\n",
              "      <td>Twelve Monkeys</td>\n",
              "      <td>168840000</td>\n",
              "    </tr>\n",
              "    <tr>\n",
              "      <th>32</th>\n",
              "      <td>Babe</td>\n",
              "      <td>254134910</td>\n",
              "    </tr>\n",
              "    <tr>\n",
              "      <th>42</th>\n",
              "      <td>Mortal Kombat</td>\n",
              "      <td>122195920</td>\n",
              "    </tr>\n",
              "    <tr>\n",
              "      <th>45</th>\n",
              "      <td>Se7en</td>\n",
              "      <td>327311859</td>\n",
              "    </tr>\n",
              "    <tr>\n",
              "      <th>46</th>\n",
              "      <td>Pocahontas</td>\n",
              "      <td>346079773</td>\n",
              "    </tr>\n",
              "  </tbody>\n",
              "</table>\n",
              "</div>\n",
              "      <button class=\"colab-df-convert\" onclick=\"convertToInteractive('df-e702b86f-782e-4ccf-8cb6-b82aa1493339')\"\n",
              "              title=\"Convert this dataframe to an interactive table.\"\n",
              "              style=\"display:none;\">\n",
              "        \n",
              "  <svg xmlns=\"http://www.w3.org/2000/svg\" height=\"24px\"viewBox=\"0 0 24 24\"\n",
              "       width=\"24px\">\n",
              "    <path d=\"M0 0h24v24H0V0z\" fill=\"none\"/>\n",
              "    <path d=\"M18.56 5.44l.94 2.06.94-2.06 2.06-.94-2.06-.94-.94-2.06-.94 2.06-2.06.94zm-11 1L8.5 8.5l.94-2.06 2.06-.94-2.06-.94L8.5 2.5l-.94 2.06-2.06.94zm10 10l.94 2.06.94-2.06 2.06-.94-2.06-.94-.94-2.06-.94 2.06-2.06.94z\"/><path d=\"M17.41 7.96l-1.37-1.37c-.4-.4-.92-.59-1.43-.59-.52 0-1.04.2-1.43.59L10.3 9.45l-7.72 7.72c-.78.78-.78 2.05 0 2.83L4 21.41c.39.39.9.59 1.41.59.51 0 1.02-.2 1.41-.59l7.78-7.78 2.81-2.81c.8-.78.8-2.07 0-2.86zM5.41 20L4 18.59l7.72-7.72 1.47 1.35L5.41 20z\"/>\n",
              "  </svg>\n",
              "      </button>\n",
              "      \n",
              "  <style>\n",
              "    .colab-df-container {\n",
              "      display:flex;\n",
              "      flex-wrap:wrap;\n",
              "      gap: 12px;\n",
              "    }\n",
              "\n",
              "    .colab-df-convert {\n",
              "      background-color: #E8F0FE;\n",
              "      border: none;\n",
              "      border-radius: 50%;\n",
              "      cursor: pointer;\n",
              "      display: none;\n",
              "      fill: #1967D2;\n",
              "      height: 32px;\n",
              "      padding: 0 0 0 0;\n",
              "      width: 32px;\n",
              "    }\n",
              "\n",
              "    .colab-df-convert:hover {\n",
              "      background-color: #E2EBFA;\n",
              "      box-shadow: 0px 1px 2px rgba(60, 64, 67, 0.3), 0px 1px 3px 1px rgba(60, 64, 67, 0.15);\n",
              "      fill: #174EA6;\n",
              "    }\n",
              "\n",
              "    [theme=dark] .colab-df-convert {\n",
              "      background-color: #3B4455;\n",
              "      fill: #D2E3FC;\n",
              "    }\n",
              "\n",
              "    [theme=dark] .colab-df-convert:hover {\n",
              "      background-color: #434B5C;\n",
              "      box-shadow: 0px 1px 3px 1px rgba(0, 0, 0, 0.15);\n",
              "      filter: drop-shadow(0px 1px 2px rgba(0, 0, 0, 0.3));\n",
              "      fill: #FFFFFF;\n",
              "    }\n",
              "  </style>\n",
              "\n",
              "      <script>\n",
              "        const buttonEl =\n",
              "          document.querySelector('#df-e702b86f-782e-4ccf-8cb6-b82aa1493339 button.colab-df-convert');\n",
              "        buttonEl.style.display =\n",
              "          google.colab.kernel.accessAllowed ? 'block' : 'none';\n",
              "\n",
              "        async function convertToInteractive(key) {\n",
              "          const element = document.querySelector('#df-e702b86f-782e-4ccf-8cb6-b82aa1493339');\n",
              "          const dataTable =\n",
              "            await google.colab.kernel.invokeFunction('convertToInteractive',\n",
              "                                                     [key], {});\n",
              "          if (!dataTable) return;\n",
              "\n",
              "          const docLinkHtml = 'Like what you see? Visit the ' +\n",
              "            '<a target=\"_blank\" href=https://colab.research.google.com/notebooks/data_table.ipynb>data table notebook</a>'\n",
              "            + ' to learn more about interactive tables.';\n",
              "          element.innerHTML = '';\n",
              "          dataTable['output_type'] = 'display_data';\n",
              "          await google.colab.output.renderOutput(dataTable, element);\n",
              "          const docLink = document.createElement('div');\n",
              "          docLink.innerHTML = docLinkHtml;\n",
              "          element.appendChild(docLink);\n",
              "        }\n",
              "      </script>\n",
              "    </div>\n",
              "  </div>\n",
              "  "
            ]
          },
          "metadata": {},
          "execution_count": 135
        }
      ]
    },
    {
      "cell_type": "code",
      "source": [
        "rentabilidad = ds_peliculas[[\"title\", \"revenue\", \"budget\"]]\n",
        "rentabilidad[\"rentabilidad\"] = rentabilidad[\"revenue\"] - rentabilidad[\"budget\"]\n",
        "rentabilidad"
      ],
      "metadata": {
        "id": "SqY1TJ5UB-VX",
        "outputId": "539810e5-a4d3-4eb3-9dab-015730b747fd",
        "colab": {
          "base_uri": "https://localhost:8080/",
          "height": 1000
        }
      },
      "execution_count": 136,
      "outputs": [
        {
          "output_type": "stream",
          "name": "stderr",
          "text": [
            "/usr/local/lib/python3.7/dist-packages/ipykernel_launcher.py:2: SettingWithCopyWarning: \n",
            "A value is trying to be set on a copy of a slice from a DataFrame.\n",
            "Try using .loc[row_indexer,col_indexer] = value instead\n",
            "\n",
            "See the caveats in the documentation: https://pandas.pydata.org/pandas-docs/stable/user_guide/indexing.html#returning-a-view-versus-a-copy\n",
            "  \n"
          ]
        },
        {
          "output_type": "execute_result",
          "data": {
            "text/plain": [
              "                             title    revenue      budget  rentabilidad\n",
              "0                        Toy Story  373554033  30000000.0   343554033.0\n",
              "1                          Jumanji  262797249  65000000.0   197797249.0\n",
              "3                Waiting to Exhale   81452156  16000000.0    65452156.0\n",
              "4      Father of the Bride Part II   76578911         0.0    76578911.0\n",
              "5                             Heat  187436818  60000000.0   127436818.0\n",
              "6                          Sabrina          0  58000000.0   -58000000.0\n",
              "9                        GoldenEye  352194034  58000000.0   294194034.0\n",
              "10          The American President  107879496  62000000.0    45879496.0\n",
              "12                           Balto   11348324         0.0    11348324.0\n",
              "13                           Nixon   13681765  44000000.0   -30318235.0\n",
              "14                Cutthroat Island   10017322  98000000.0   -87982678.0\n",
              "15                          Casino  116112375  52000000.0    64112375.0\n",
              "16           Sense and Sensibility  135000000  16500000.0   118500000.0\n",
              "17                      Four Rooms    4300000   4000000.0      300000.0\n",
              "18  Ace Ventura: When Nature Calls  212385533  30000000.0   182385533.0\n",
              "19                     Money Train   35431113  60000000.0   -24568887.0\n",
              "20                      Get Shorty  115101622  30250000.0    84851622.0\n",
              "22                       Assassins   30303072  50000000.0   -19696928.0\n",
              "24               Leaving Las Vegas   49800000   3600000.0    46200000.0\n",
              "28       The City of Lost Children    1738611  18000000.0   -16261389.0\n",
              "29                 Dangerous Minds  180000000         0.0   180000000.0\n",
              "30                  Twelve Monkeys  168840000  29500000.0   139340000.0\n",
              "32                            Babe  254134910  30000000.0   224134910.0\n",
              "34                Dead Man Walking   39363635  11000000.0    28363635.0\n",
              "37                        Clueless          0  12000000.0   -12000000.0\n",
              "38        Cry, the Beloved Country     676525         0.0      676525.0\n",
              "40                 Dead Presidents          0  10000000.0   -10000000.0\n",
              "41                     Restoration          0  19000000.0   -19000000.0\n",
              "42                   Mortal Kombat  122195920  18000000.0   104195920.0\n",
              "43                      To Die For   21284514  20000000.0     1284514.0\n",
              "44   How To Make An American Quilt   23574130  10000000.0    13574130.0\n",
              "45                           Se7en  327311859  33000000.0   294311859.0\n",
              "46                      Pocahontas  346079773  55000000.0   291079773.0"
            ],
            "text/html": [
              "\n",
              "  <div id=\"df-6977529c-3b91-4fe3-9b8b-7322a29a5b71\">\n",
              "    <div class=\"colab-df-container\">\n",
              "      <div>\n",
              "<style scoped>\n",
              "    .dataframe tbody tr th:only-of-type {\n",
              "        vertical-align: middle;\n",
              "    }\n",
              "\n",
              "    .dataframe tbody tr th {\n",
              "        vertical-align: top;\n",
              "    }\n",
              "\n",
              "    .dataframe thead th {\n",
              "        text-align: right;\n",
              "    }\n",
              "</style>\n",
              "<table border=\"1\" class=\"dataframe\">\n",
              "  <thead>\n",
              "    <tr style=\"text-align: right;\">\n",
              "      <th></th>\n",
              "      <th>title</th>\n",
              "      <th>revenue</th>\n",
              "      <th>budget</th>\n",
              "      <th>rentabilidad</th>\n",
              "    </tr>\n",
              "  </thead>\n",
              "  <tbody>\n",
              "    <tr>\n",
              "      <th>0</th>\n",
              "      <td>Toy Story</td>\n",
              "      <td>373554033</td>\n",
              "      <td>30000000.0</td>\n",
              "      <td>343554033.0</td>\n",
              "    </tr>\n",
              "    <tr>\n",
              "      <th>1</th>\n",
              "      <td>Jumanji</td>\n",
              "      <td>262797249</td>\n",
              "      <td>65000000.0</td>\n",
              "      <td>197797249.0</td>\n",
              "    </tr>\n",
              "    <tr>\n",
              "      <th>3</th>\n",
              "      <td>Waiting to Exhale</td>\n",
              "      <td>81452156</td>\n",
              "      <td>16000000.0</td>\n",
              "      <td>65452156.0</td>\n",
              "    </tr>\n",
              "    <tr>\n",
              "      <th>4</th>\n",
              "      <td>Father of the Bride Part II</td>\n",
              "      <td>76578911</td>\n",
              "      <td>0.0</td>\n",
              "      <td>76578911.0</td>\n",
              "    </tr>\n",
              "    <tr>\n",
              "      <th>5</th>\n",
              "      <td>Heat</td>\n",
              "      <td>187436818</td>\n",
              "      <td>60000000.0</td>\n",
              "      <td>127436818.0</td>\n",
              "    </tr>\n",
              "    <tr>\n",
              "      <th>6</th>\n",
              "      <td>Sabrina</td>\n",
              "      <td>0</td>\n",
              "      <td>58000000.0</td>\n",
              "      <td>-58000000.0</td>\n",
              "    </tr>\n",
              "    <tr>\n",
              "      <th>9</th>\n",
              "      <td>GoldenEye</td>\n",
              "      <td>352194034</td>\n",
              "      <td>58000000.0</td>\n",
              "      <td>294194034.0</td>\n",
              "    </tr>\n",
              "    <tr>\n",
              "      <th>10</th>\n",
              "      <td>The American President</td>\n",
              "      <td>107879496</td>\n",
              "      <td>62000000.0</td>\n",
              "      <td>45879496.0</td>\n",
              "    </tr>\n",
              "    <tr>\n",
              "      <th>12</th>\n",
              "      <td>Balto</td>\n",
              "      <td>11348324</td>\n",
              "      <td>0.0</td>\n",
              "      <td>11348324.0</td>\n",
              "    </tr>\n",
              "    <tr>\n",
              "      <th>13</th>\n",
              "      <td>Nixon</td>\n",
              "      <td>13681765</td>\n",
              "      <td>44000000.0</td>\n",
              "      <td>-30318235.0</td>\n",
              "    </tr>\n",
              "    <tr>\n",
              "      <th>14</th>\n",
              "      <td>Cutthroat Island</td>\n",
              "      <td>10017322</td>\n",
              "      <td>98000000.0</td>\n",
              "      <td>-87982678.0</td>\n",
              "    </tr>\n",
              "    <tr>\n",
              "      <th>15</th>\n",
              "      <td>Casino</td>\n",
              "      <td>116112375</td>\n",
              "      <td>52000000.0</td>\n",
              "      <td>64112375.0</td>\n",
              "    </tr>\n",
              "    <tr>\n",
              "      <th>16</th>\n",
              "      <td>Sense and Sensibility</td>\n",
              "      <td>135000000</td>\n",
              "      <td>16500000.0</td>\n",
              "      <td>118500000.0</td>\n",
              "    </tr>\n",
              "    <tr>\n",
              "      <th>17</th>\n",
              "      <td>Four Rooms</td>\n",
              "      <td>4300000</td>\n",
              "      <td>4000000.0</td>\n",
              "      <td>300000.0</td>\n",
              "    </tr>\n",
              "    <tr>\n",
              "      <th>18</th>\n",
              "      <td>Ace Ventura: When Nature Calls</td>\n",
              "      <td>212385533</td>\n",
              "      <td>30000000.0</td>\n",
              "      <td>182385533.0</td>\n",
              "    </tr>\n",
              "    <tr>\n",
              "      <th>19</th>\n",
              "      <td>Money Train</td>\n",
              "      <td>35431113</td>\n",
              "      <td>60000000.0</td>\n",
              "      <td>-24568887.0</td>\n",
              "    </tr>\n",
              "    <tr>\n",
              "      <th>20</th>\n",
              "      <td>Get Shorty</td>\n",
              "      <td>115101622</td>\n",
              "      <td>30250000.0</td>\n",
              "      <td>84851622.0</td>\n",
              "    </tr>\n",
              "    <tr>\n",
              "      <th>22</th>\n",
              "      <td>Assassins</td>\n",
              "      <td>30303072</td>\n",
              "      <td>50000000.0</td>\n",
              "      <td>-19696928.0</td>\n",
              "    </tr>\n",
              "    <tr>\n",
              "      <th>24</th>\n",
              "      <td>Leaving Las Vegas</td>\n",
              "      <td>49800000</td>\n",
              "      <td>3600000.0</td>\n",
              "      <td>46200000.0</td>\n",
              "    </tr>\n",
              "    <tr>\n",
              "      <th>28</th>\n",
              "      <td>The City of Lost Children</td>\n",
              "      <td>1738611</td>\n",
              "      <td>18000000.0</td>\n",
              "      <td>-16261389.0</td>\n",
              "    </tr>\n",
              "    <tr>\n",
              "      <th>29</th>\n",
              "      <td>Dangerous Minds</td>\n",
              "      <td>180000000</td>\n",
              "      <td>0.0</td>\n",
              "      <td>180000000.0</td>\n",
              "    </tr>\n",
              "    <tr>\n",
              "      <th>30</th>\n",
              "      <td>Twelve Monkeys</td>\n",
              "      <td>168840000</td>\n",
              "      <td>29500000.0</td>\n",
              "      <td>139340000.0</td>\n",
              "    </tr>\n",
              "    <tr>\n",
              "      <th>32</th>\n",
              "      <td>Babe</td>\n",
              "      <td>254134910</td>\n",
              "      <td>30000000.0</td>\n",
              "      <td>224134910.0</td>\n",
              "    </tr>\n",
              "    <tr>\n",
              "      <th>34</th>\n",
              "      <td>Dead Man Walking</td>\n",
              "      <td>39363635</td>\n",
              "      <td>11000000.0</td>\n",
              "      <td>28363635.0</td>\n",
              "    </tr>\n",
              "    <tr>\n",
              "      <th>37</th>\n",
              "      <td>Clueless</td>\n",
              "      <td>0</td>\n",
              "      <td>12000000.0</td>\n",
              "      <td>-12000000.0</td>\n",
              "    </tr>\n",
              "    <tr>\n",
              "      <th>38</th>\n",
              "      <td>Cry, the Beloved Country</td>\n",
              "      <td>676525</td>\n",
              "      <td>0.0</td>\n",
              "      <td>676525.0</td>\n",
              "    </tr>\n",
              "    <tr>\n",
              "      <th>40</th>\n",
              "      <td>Dead Presidents</td>\n",
              "      <td>0</td>\n",
              "      <td>10000000.0</td>\n",
              "      <td>-10000000.0</td>\n",
              "    </tr>\n",
              "    <tr>\n",
              "      <th>41</th>\n",
              "      <td>Restoration</td>\n",
              "      <td>0</td>\n",
              "      <td>19000000.0</td>\n",
              "      <td>-19000000.0</td>\n",
              "    </tr>\n",
              "    <tr>\n",
              "      <th>42</th>\n",
              "      <td>Mortal Kombat</td>\n",
              "      <td>122195920</td>\n",
              "      <td>18000000.0</td>\n",
              "      <td>104195920.0</td>\n",
              "    </tr>\n",
              "    <tr>\n",
              "      <th>43</th>\n",
              "      <td>To Die For</td>\n",
              "      <td>21284514</td>\n",
              "      <td>20000000.0</td>\n",
              "      <td>1284514.0</td>\n",
              "    </tr>\n",
              "    <tr>\n",
              "      <th>44</th>\n",
              "      <td>How To Make An American Quilt</td>\n",
              "      <td>23574130</td>\n",
              "      <td>10000000.0</td>\n",
              "      <td>13574130.0</td>\n",
              "    </tr>\n",
              "    <tr>\n",
              "      <th>45</th>\n",
              "      <td>Se7en</td>\n",
              "      <td>327311859</td>\n",
              "      <td>33000000.0</td>\n",
              "      <td>294311859.0</td>\n",
              "    </tr>\n",
              "    <tr>\n",
              "      <th>46</th>\n",
              "      <td>Pocahontas</td>\n",
              "      <td>346079773</td>\n",
              "      <td>55000000.0</td>\n",
              "      <td>291079773.0</td>\n",
              "    </tr>\n",
              "  </tbody>\n",
              "</table>\n",
              "</div>\n",
              "      <button class=\"colab-df-convert\" onclick=\"convertToInteractive('df-6977529c-3b91-4fe3-9b8b-7322a29a5b71')\"\n",
              "              title=\"Convert this dataframe to an interactive table.\"\n",
              "              style=\"display:none;\">\n",
              "        \n",
              "  <svg xmlns=\"http://www.w3.org/2000/svg\" height=\"24px\"viewBox=\"0 0 24 24\"\n",
              "       width=\"24px\">\n",
              "    <path d=\"M0 0h24v24H0V0z\" fill=\"none\"/>\n",
              "    <path d=\"M18.56 5.44l.94 2.06.94-2.06 2.06-.94-2.06-.94-.94-2.06-.94 2.06-2.06.94zm-11 1L8.5 8.5l.94-2.06 2.06-.94-2.06-.94L8.5 2.5l-.94 2.06-2.06.94zm10 10l.94 2.06.94-2.06 2.06-.94-2.06-.94-.94-2.06-.94 2.06-2.06.94z\"/><path d=\"M17.41 7.96l-1.37-1.37c-.4-.4-.92-.59-1.43-.59-.52 0-1.04.2-1.43.59L10.3 9.45l-7.72 7.72c-.78.78-.78 2.05 0 2.83L4 21.41c.39.39.9.59 1.41.59.51 0 1.02-.2 1.41-.59l7.78-7.78 2.81-2.81c.8-.78.8-2.07 0-2.86zM5.41 20L4 18.59l7.72-7.72 1.47 1.35L5.41 20z\"/>\n",
              "  </svg>\n",
              "      </button>\n",
              "      \n",
              "  <style>\n",
              "    .colab-df-container {\n",
              "      display:flex;\n",
              "      flex-wrap:wrap;\n",
              "      gap: 12px;\n",
              "    }\n",
              "\n",
              "    .colab-df-convert {\n",
              "      background-color: #E8F0FE;\n",
              "      border: none;\n",
              "      border-radius: 50%;\n",
              "      cursor: pointer;\n",
              "      display: none;\n",
              "      fill: #1967D2;\n",
              "      height: 32px;\n",
              "      padding: 0 0 0 0;\n",
              "      width: 32px;\n",
              "    }\n",
              "\n",
              "    .colab-df-convert:hover {\n",
              "      background-color: #E2EBFA;\n",
              "      box-shadow: 0px 1px 2px rgba(60, 64, 67, 0.3), 0px 1px 3px 1px rgba(60, 64, 67, 0.15);\n",
              "      fill: #174EA6;\n",
              "    }\n",
              "\n",
              "    [theme=dark] .colab-df-convert {\n",
              "      background-color: #3B4455;\n",
              "      fill: #D2E3FC;\n",
              "    }\n",
              "\n",
              "    [theme=dark] .colab-df-convert:hover {\n",
              "      background-color: #434B5C;\n",
              "      box-shadow: 0px 1px 3px 1px rgba(0, 0, 0, 0.15);\n",
              "      filter: drop-shadow(0px 1px 2px rgba(0, 0, 0, 0.3));\n",
              "      fill: #FFFFFF;\n",
              "    }\n",
              "  </style>\n",
              "\n",
              "      <script>\n",
              "        const buttonEl =\n",
              "          document.querySelector('#df-6977529c-3b91-4fe3-9b8b-7322a29a5b71 button.colab-df-convert');\n",
              "        buttonEl.style.display =\n",
              "          google.colab.kernel.accessAllowed ? 'block' : 'none';\n",
              "\n",
              "        async function convertToInteractive(key) {\n",
              "          const element = document.querySelector('#df-6977529c-3b91-4fe3-9b8b-7322a29a5b71');\n",
              "          const dataTable =\n",
              "            await google.colab.kernel.invokeFunction('convertToInteractive',\n",
              "                                                     [key], {});\n",
              "          if (!dataTable) return;\n",
              "\n",
              "          const docLinkHtml = 'Like what you see? Visit the ' +\n",
              "            '<a target=\"_blank\" href=https://colab.research.google.com/notebooks/data_table.ipynb>data table notebook</a>'\n",
              "            + ' to learn more about interactive tables.';\n",
              "          element.innerHTML = '';\n",
              "          dataTable['output_type'] = 'display_data';\n",
              "          await google.colab.output.renderOutput(dataTable, element);\n",
              "          const docLink = document.createElement('div');\n",
              "          docLink.innerHTML = docLinkHtml;\n",
              "          element.appendChild(docLink);\n",
              "        }\n",
              "      </script>\n",
              "    </div>\n",
              "  </div>\n",
              "  "
            ]
          },
          "metadata": {},
          "execution_count": 136
        }
      ]
    },
    {
      "cell_type": "markdown",
      "source": [
        "#### d) Realizar los siguientes gráficos\n",
        "\n",
        "* Realizar un gráfico de barras que permita ver la cantidad de películas estrenadas por mes durante el año 1996.\n",
        "\n",
        "* Realizar un scatter plot de budget vs revenue\n",
        "¿Qué podemos ver en el scatter plot? ¿Les llama la atención alguna/s observacion/es ?\n",
        "\n",
        "* Realizar un pairplot con todas las variables cuantitativas."
      ],
      "metadata": {
        "id": "9aGM2zeWxgVV"
      }
    },
    {
      "cell_type": "code",
      "source": [
        "ds_peliculas[\"release_date\"] = pd.to_datetime(ds_peliculas[\"release_date\"],errors='ignore', dayfirst = False)\n",
        "ds_year = ds_peliculas.copy()\n",
        "ds_year = ds_year.loc[ds_year[\"release_date\"].dt.year == 1995][\"release_date\"].dt.month.value_counts()\n",
        "ds_year.sort_index(inplace = True)"
      ],
      "metadata": {
        "id": "DfhleaYYB5Mx",
        "outputId": "fb1fe2d5-459b-43a3-fa2a-8cddb992da6c",
        "colab": {
          "base_uri": "https://localhost:8080/"
        }
      },
      "execution_count": 149,
      "outputs": [
        {
          "output_type": "execute_result",
          "data": {
            "text/plain": [
              "dtype('int64')"
            ]
          },
          "metadata": {},
          "execution_count": 149
        }
      ]
    },
    {
      "cell_type": "code",
      "source": [],
      "metadata": {
        "id": "MyaiQM4kDEc3"
      },
      "execution_count": 137,
      "outputs": []
    },
    {
      "cell_type": "code",
      "source": [],
      "metadata": {
        "id": "sY7wXNTMB438"
      },
      "execution_count": 137,
      "outputs": []
    },
    {
      "cell_type": "markdown",
      "source": [
        "## Ejercicio 3 - Dataset Ataque de Tiburones\n",
        "\n",
        "El conjunto de datos contiene un registro de los ataques de tiburones que ocurrieron en distintos países en los últimos 200 años. Se identifica el caso, el país,el sexo de la persona y su edad entre otros."
      ],
      "metadata": {
        "id": "o1a6J6PqN5ZD"
      }
    },
    {
      "cell_type": "markdown",
      "source": [
        "#### a) Cargar el dataset en un dataframe de pandas realizar un análisis exploratorio"
      ],
      "metadata": {
        "id": "KSDtwtHcPj6r"
      }
    },
    {
      "cell_type": "code",
      "source": [],
      "metadata": {
        "id": "8Dvp8SgUPtcw"
      },
      "execution_count": 137,
      "outputs": []
    },
    {
      "cell_type": "code",
      "source": [],
      "metadata": {
        "id": "8OACbSSIPjpm"
      },
      "execution_count": 137,
      "outputs": []
    },
    {
      "cell_type": "markdown",
      "source": [
        "#### b) Realizar un gráfico de barras para el atributo Country. ¿Cuáles son los dos países con mayor cantidad de ataque de tiburones?"
      ],
      "metadata": {
        "id": "Gvh24ZNYPuBu"
      }
    },
    {
      "cell_type": "code",
      "source": [],
      "metadata": {
        "id": "vi5t9q6jP5l7"
      },
      "execution_count": 137,
      "outputs": []
    },
    {
      "cell_type": "code",
      "source": [],
      "metadata": {
        "id": "WD6hEoGeP6OB"
      },
      "execution_count": 137,
      "outputs": []
    },
    {
      "cell_type": "markdown",
      "source": [
        "#### c) Crear un nuevo dataframe **shark_attacks** que contenga unicamente los ataques correspondientes a los dos países del punto b"
      ],
      "metadata": {
        "id": "V03Yfz5TP7b2"
      }
    },
    {
      "cell_type": "code",
      "source": [],
      "metadata": {
        "id": "gqnQMqAyZ55D"
      },
      "execution_count": 137,
      "outputs": []
    },
    {
      "cell_type": "code",
      "source": [],
      "metadata": {
        "id": "lrepZTbqZ5vE"
      },
      "execution_count": 137,
      "outputs": []
    },
    {
      "cell_type": "markdown",
      "source": [
        "#### d) Registros con valores inconsistentes:\n",
        "* La varible \"Sex\" debe contener únicamente los valores F, M . Eliminar los que no correspondan y también los valores faltantes.\n",
        "* La variable \"Age\" debe contener únicamente valores numéricos.Eliminar los valores que no correspondan, reemplazar los valores faltantes por 0 y convertir el tipo de dato a entero.\n",
        "* La variable Year debe contener únicamente valores del tipo AAAA (Ej: 1890,1916,etc). Modificar los valores y convertir el tipo de dato a entero. *Hint : str.replace(...)* . Filtrar los registros desde el 1800 en adelante."
      ],
      "metadata": {
        "id": "rAtlehumZ6W6"
      }
    },
    {
      "cell_type": "code",
      "source": [],
      "metadata": {
        "id": "AuZ_PVHTnX0y"
      },
      "execution_count": 137,
      "outputs": []
    },
    {
      "cell_type": "code",
      "source": [],
      "metadata": {
        "id": "3BjFzzcBnXuk"
      },
      "execution_count": 137,
      "outputs": []
    },
    {
      "cell_type": "code",
      "source": [],
      "metadata": {
        "id": "B1-kY2REajme"
      },
      "execution_count": 137,
      "outputs": []
    },
    {
      "cell_type": "markdown",
      "source": [
        "#### e) Mostrar la cantidad de observaciones para cada categoría de la variable **Activity** . Mantener las categorias mas representativas y el resto unificarlas bajo la etiequeta **Other**"
      ],
      "metadata": {
        "id": "drZ77vd6akIo"
      }
    },
    {
      "cell_type": "code",
      "source": [],
      "metadata": {
        "id": "G9KFAdXiaqPD"
      },
      "execution_count": 137,
      "outputs": []
    },
    {
      "cell_type": "code",
      "source": [],
      "metadata": {
        "id": "pYwPVEi0kvSU"
      },
      "execution_count": 137,
      "outputs": []
    },
    {
      "cell_type": "code",
      "source": [],
      "metadata": {
        "id": "Sl7zMJv9kuzu"
      },
      "execution_count": 137,
      "outputs": []
    },
    {
      "cell_type": "markdown",
      "source": [
        "#### f) Realizar una tabla cruzada para las siguientes combinaciones de variables:\n",
        "\n",
        "* Country-Sex\n",
        "* Country-Type\n",
        "* Year-Sex para los últimos 10 años."
      ],
      "metadata": {
        "id": "9balBg_wfuPq"
      }
    },
    {
      "cell_type": "code",
      "source": [],
      "metadata": {
        "id": "5NycPXh5ftiB"
      },
      "execution_count": 137,
      "outputs": []
    },
    {
      "cell_type": "code",
      "source": [],
      "metadata": {
        "id": "M6-kFC1jksyn"
      },
      "execution_count": 137,
      "outputs": []
    },
    {
      "cell_type": "code",
      "source": [],
      "metadata": {
        "id": "8ZfteE5Dkso5"
      },
      "execution_count": 137,
      "outputs": []
    },
    {
      "cell_type": "markdown",
      "source": [
        "#### g) Realizar los siguientes gráficos:\n",
        "\n",
        "* Grafico de Violin: colocar en el eje horizontal la variable **Sex** y en el eje vertical la variable **Age** seleccionado sólo los registros donde la edad sea mayor a 0.\n",
        "\n",
        "* Gráfico de densidad para la variable **Age** por sexo, seleccionado sólo los registros donde la edad sea mayor a 0.\n",
        "\n",
        "* Gráfico de barras con la cantidad de accidentes por año por país para los últimos 60 años."
      ],
      "metadata": {
        "id": "Y3K6gpXsc-g4"
      }
    },
    {
      "cell_type": "code",
      "source": [],
      "metadata": {
        "id": "Ap4O6GrVFDgv"
      },
      "execution_count": 137,
      "outputs": []
    },
    {
      "cell_type": "code",
      "source": [],
      "metadata": {
        "id": "qTd3gSKhnVJA"
      },
      "execution_count": 137,
      "outputs": []
    },
    {
      "cell_type": "code",
      "source": [],
      "metadata": {
        "id": "VX43HJBonU3R"
      },
      "execution_count": 137,
      "outputs": []
    },
    {
      "cell_type": "markdown",
      "source": [
        "## Ejercicio 4 - Dataset Dolar\n",
        "\n",
        "El conjunto de datos contiene la cotización oficial diaria del dólar para la compra y para la venta públicada en ámbito financiero.\n"
      ],
      "metadata": {
        "id": "5fzHFxmjN-uK"
      }
    },
    {
      "cell_type": "markdown",
      "source": [
        "#### a) Realizar un análisis exploratorio, mostrando el tamaño del dataset, los nombres de las columnas, los tipos de datos y las mediadas de resumen.\n",
        "¿Hay valores faltantes?"
      ],
      "metadata": {
        "id": "kqp7hI_VoR8E"
      }
    },
    {
      "cell_type": "code",
      "source": [],
      "metadata": {
        "id": "yHP2EEO-kGo5"
      },
      "execution_count": 137,
      "outputs": []
    },
    {
      "cell_type": "code",
      "source": [],
      "metadata": {
        "id": "HTVwqLPukE1x"
      },
      "execution_count": 137,
      "outputs": []
    },
    {
      "cell_type": "markdown",
      "source": [
        "#### b) Realizar las siguientes conversiones y generar los nuevos dataframes solicitados:\n",
        "\n",
        "* Convertir el atributo **fecha** en tipo de dato *date*. *Hint : pandas.to_datetime(...)*\n",
        "\n",
        "* A partir del atributo **fecha** generar tres nuevas columnas : **dia, mes, año**.\n",
        "\n",
        "* Generar un nuevo DataFrame **dolar_prom_mes** que contenga la cotización promedio mensual (para la compra y para la venta) de cada mes. El DF debe tener las siguientes columnas: **año,mes,venta_prom_mes,compra_prom_mes**\n",
        "\n",
        "* Generar un nuevo DataFrame **dolar_maxmin_mes** que contenga la cotización más alta y la mas baja de cada mes. El DF debe tener las siguientes columnas: **año,mes,venta_max_mes,venta_min_mes,compra_max_mes, compra_min_mes**\n",
        "\n",
        "* Generar un nuevo DataFrame **dolar_hist** que contenga las cotizaciones diarias junto con la máxima, la mínima y la promedio del mes. El DF debe tener las  siguientes columas: **año, mes, dia, compra, compra_prom, compra_max_mes, compra_min_mes, venta, venta_prom_mes, venta_max_mes, venta_min_mes**\n",
        "\n",
        "* Generar un nuevo DataFrame **dolar_long** con las siguientes columnas: **año, mes, tipo_cot, cot** donde la variable **tipo_cot** tome los valores literales 'compra' o 'venta' y la varibale **cot** la cotización correspondiente. *Hint: pandas.melt(....)*"
      ],
      "metadata": {
        "id": "_vAseho4j-Dq"
      }
    },
    {
      "cell_type": "code",
      "source": [],
      "metadata": {
        "id": "WRlmtCg-xIah"
      },
      "execution_count": 137,
      "outputs": []
    },
    {
      "cell_type": "code",
      "source": [],
      "metadata": {
        "id": "-BwTrygSxIV1"
      },
      "execution_count": 137,
      "outputs": []
    },
    {
      "cell_type": "code",
      "source": [],
      "metadata": {
        "id": "02lbf58TxIPy"
      },
      "execution_count": 137,
      "outputs": []
    },
    {
      "cell_type": "code",
      "source": [],
      "metadata": {
        "id": "X1ALiE67xIKW"
      },
      "execution_count": 137,
      "outputs": []
    },
    {
      "cell_type": "code",
      "source": [],
      "metadata": {
        "id": "swaHs5ssxIED"
      },
      "execution_count": 137,
      "outputs": []
    },
    {
      "cell_type": "code",
      "source": [],
      "metadata": {
        "id": "GPMsO2iCxH_O"
      },
      "execution_count": 137,
      "outputs": []
    },
    {
      "cell_type": "markdown",
      "source": [
        "#### c) Realizar los siguientes gráficos:\n",
        "* Boxplots comparativos de la cotización de venta por año.\n",
        "* Boxplots comparativos de la cotización de venta por mes para el año 2019.\n",
        "* Gráfico de la serie de tiempo de la cotización de compra y de venta diaria. Plus: Incluir en el gráfico la tendencia promedio mensual.\n",
        "* Gráfico a elección con el dataset **dolar_long** que permita obtener información diferente a la obtenida a partir los gráficos anteriores."
      ],
      "metadata": {
        "id": "kHpKyXhth_tV"
      }
    },
    {
      "cell_type": "code",
      "source": [],
      "metadata": {
        "id": "980-7tpjxJcD"
      },
      "execution_count": 137,
      "outputs": []
    },
    {
      "cell_type": "code",
      "source": [],
      "metadata": {
        "id": "tHN2Za3MxJPu"
      },
      "execution_count": 137,
      "outputs": []
    },
    {
      "cell_type": "code",
      "source": [],
      "metadata": {
        "id": "xyxkBXWaxJLp"
      },
      "execution_count": 137,
      "outputs": []
    },
    {
      "cell_type": "code",
      "source": [],
      "metadata": {
        "id": "QHGQUXFqxJHy"
      },
      "execution_count": 137,
      "outputs": []
    },
    {
      "cell_type": "markdown",
      "source": [
        "## Ejercicio 5  - Spotify\n",
        "\n",
        "El conjunto de datos contiene información sobre algunos tracks (canciones) de spotify. Entre los datos disponibles encontramos el género, la popularidad, la duracion y una serie de features de audio como el tempo, la valencia etc.\n",
        "\n",
        "Para conocer en detalle cada atributo consultar el siguiente link:\n",
        "\n",
        "https://developer.spotify.com/documentation/web-api/reference/#/operations/get-several-audio-features"
      ],
      "metadata": {
        "id": "XDqTlPbuOTg3"
      }
    },
    {
      "cell_type": "markdown",
      "source": [
        "### Parte I\n",
        "\n",
        "1.   Realizar una descripción del dataset detallando nombres de las columnas, tipos de datos y descripción de cada una.\n",
        "2.   Mostrar un conjunto reducido de filas (las primeras y las últimas)\n",
        "3.   Reportar cantidad de valores nulos por columna.\n",
        "4.   Variables cualitativas:\n",
        "  *  Sobre las variables de este tipo mostrar los distintos valores existentes y la cantidad de filas correspondientes a cada uno.\n",
        "  Armar un nuevo dataframe con estos datos.\n",
        "  *   Compare en un gráfico de barras la cantidad de filas pertenecientes\n",
        "  a cada valor.¿Es posible realizar este gráfico con un histograma? Explique las diferencias entre estos dos tipos de gráficos.\n",
        "5.   Variables cuantitativas:\n",
        "  * Sobre variables de este tipo calcular las siguientes medidas de resumen, y armar un nuevo dataframe con estos datos:\n",
        "      * Media\n",
        "      * Mediana\n",
        "      * Moda\n",
        "      * Primer y tercer cuartil\n",
        "      * Rango\n",
        "  * Correlación de atributos\n",
        "      * Explorar las variables tomándolas de a pares utilizando un gráfico scatter_matrix\n",
        "      * Calcular la correlación de Pearson y graficar las correlaciones obtenidas en un gráfico de tipo heatmap\n",
        "      ¿Existen variables correlacionadas? ¿Es esperable o no?\n"
      ],
      "metadata": {
        "id": "WO-10OYzYFaN"
      }
    },
    {
      "cell_type": "code",
      "source": [],
      "metadata": {
        "id": "zqXyNxvUGTn1"
      },
      "execution_count": 137,
      "outputs": []
    },
    {
      "cell_type": "code",
      "source": [],
      "metadata": {
        "id": "ybl1oTavGTfN"
      },
      "execution_count": 137,
      "outputs": []
    },
    {
      "cell_type": "code",
      "source": [],
      "metadata": {
        "id": "iqznHn9-GTZG"
      },
      "execution_count": 137,
      "outputs": []
    },
    {
      "cell_type": "code",
      "source": [],
      "metadata": {
        "id": "_WhrzwZVGTS7"
      },
      "execution_count": 137,
      "outputs": []
    },
    {
      "cell_type": "code",
      "source": [],
      "metadata": {
        "id": "6FZxtRlBGTMs"
      },
      "execution_count": 137,
      "outputs": []
    },
    {
      "cell_type": "code",
      "source": [],
      "metadata": {
        "id": "LjeDyUVsGTGJ"
      },
      "execution_count": 137,
      "outputs": []
    },
    {
      "cell_type": "code",
      "source": [],
      "metadata": {
        "id": "80HKsGNlGS-L"
      },
      "execution_count": 137,
      "outputs": []
    },
    {
      "cell_type": "code",
      "source": [],
      "metadata": {
        "id": "gGeNCwJhcyua"
      },
      "execution_count": 137,
      "outputs": []
    },
    {
      "cell_type": "code",
      "source": [],
      "metadata": {
        "id": "xQtrxr8Vcyni"
      },
      "execution_count": 137,
      "outputs": []
    },
    {
      "cell_type": "code",
      "source": [],
      "metadata": {
        "id": "lxV5CGLTcygE"
      },
      "execution_count": 137,
      "outputs": []
    },
    {
      "cell_type": "markdown",
      "source": [
        "### Parte II\n",
        "\n",
        "1.   A partir de la exploración realizada plantear dos preguntas de investigación que les resulten interesantes para formular sobre los datos propuestos. Por ejemplo, ¿existe alguna relación\n",
        "entre el género musical y alguna de las otras variables?\n",
        "\n",
        "2.   Elegir dos visualizaciones que permitan abordar sus preguntas de\n",
        "investigación e interpretar los resultados."
      ],
      "metadata": {
        "id": "Co0o29--Yuhd"
      }
    },
    {
      "cell_type": "code",
      "source": [],
      "metadata": {
        "id": "ZFFMJWJkOgp9"
      },
      "execution_count": 137,
      "outputs": []
    },
    {
      "cell_type": "code",
      "source": [],
      "metadata": {
        "id": "cgmuq-jEOgXJ"
      },
      "execution_count": 137,
      "outputs": []
    }
  ]
}