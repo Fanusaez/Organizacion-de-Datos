{
  "nbformat": 4,
  "nbformat_minor": 0,
  "metadata": {
    "colab": {
      "provenance": [],
      "authorship_tag": "ABX9TyODF9LbUlrmQkfu0JG09yfp",
      "include_colab_link": true
    },
    "kernelspec": {
      "name": "python3",
      "display_name": "Python 3"
    },
    "language_info": {
      "name": "python"
    }
  },
  "cells": [
    {
      "cell_type": "markdown",
      "metadata": {
        "id": "view-in-github",
        "colab_type": "text"
      },
      "source": [
        "<a href=\"https://colab.research.google.com/github/Fanusaez/Organizacion-de-Datos/blob/main/Regresion_logistica/regresion_logistica.ipynb\" target=\"_parent\"><img src=\"https://colab.research.google.com/assets/colab-badge.svg\" alt=\"Open In Colab\"/></a>"
      ]
    },
    {
      "cell_type": "markdown",
      "source": [
        "#Sobrevivientes del titanic"
      ],
      "metadata": {
        "id": "tkM-Wt9vAKid"
      }
    },
    {
      "cell_type": "code",
      "execution_count": 37,
      "metadata": {
        "id": "NIEaWPXC-5An"
      },
      "outputs": [],
      "source": [
        "## Librerias a utilizar"
      ]
    },
    {
      "cell_type": "code",
      "source": [
        "from sklearn.linear_model import LogisticRegression\n",
        "import pandas as pd\n",
        "import numpy as np\n",
        "\n",
        "import matplotlib.pyplot as plt\n",
        "import seaborn as sns\n",
        "\n",
        "from sklearn.linear_model import LogisticRegression\n",
        "from sklearn.linear_model import LogisticRegressionCV\n",
        "\n",
        "from sklearn.model_selection import cross_val_score,cross_validate\n",
        "\n",
        "from sklearn import metrics\n",
        "from sklearn.model_selection import train_test_split, cross_val_score\n",
        "from sklearn.metrics import confusion_matrix, precision_recall_curve, roc_curve, auc, log_loss\n",
        "\n",
        "from yellowbrick.classifier import DiscriminationThreshold\n",
        "from yellowbrick.classifier import ROCAUC\n",
        "\n",
        "import os\n",
        "import warnings\n",
        "warnings.simplefilter(action='ignore', category=FutureWarning)\n",
        "warnings.simplefilter(action='ignore', category=UserWarning)"
      ],
      "metadata": {
        "id": "Xmc2VYOpAzVT"
      },
      "execution_count": 38,
      "outputs": []
    },
    {
      "cell_type": "markdown",
      "source": [
        "## Utilizando nuevamente el conjunto de datos de sobrevivientes del titanic, calcular la regresión logística entre las variables “Age” y “Survived”."
      ],
      "metadata": {
        "id": "P44RcxjYBGar"
      }
    },
    {
      "cell_type": "code",
      "source": [
        "from google.colab import drive\n",
        "drive.mount(\"/gdrive\")\n",
        "\n",
        "ds_titanic = pd.read_csv('/gdrive/My Drive/Datasets/ds_titanic.csv')"
      ],
      "metadata": {
        "colab": {
          "base_uri": "https://localhost:8080/"
        },
        "id": "VRzBE6FJBK5D",
        "outputId": "867eaa0c-3414-4b2f-c464-8c88cd64a3b4"
      },
      "execution_count": 39,
      "outputs": [
        {
          "output_type": "stream",
          "name": "stdout",
          "text": [
            "Drive already mounted at /gdrive; to attempt to forcibly remount, call drive.mount(\"/gdrive\", force_remount=True).\n"
          ]
        }
      ]
    },
    {
      "cell_type": "code",
      "source": [
        "ds_titanic.columns.to_list()"
      ],
      "metadata": {
        "colab": {
          "base_uri": "https://localhost:8080/"
        },
        "id": "Y36ptqPdDpFc",
        "outputId": "bf38342d-59f1-40cd-f3ab-1667698882a2"
      },
      "execution_count": 40,
      "outputs": [
        {
          "output_type": "execute_result",
          "data": {
            "text/plain": [
              "['PassengerId',\n",
              " 'Survived',\n",
              " 'Pclass',\n",
              " 'Name',\n",
              " 'Sex',\n",
              " 'Age',\n",
              " 'SibSp',\n",
              " 'Parch',\n",
              " 'Ticket',\n",
              " 'Fare',\n",
              " 'Cabin',\n",
              " 'Embarked']"
            ]
          },
          "metadata": {},
          "execution_count": 40
        }
      ]
    },
    {
      "cell_type": "markdown",
      "source": [
        "##Modelo 0\n",
        "Realizamos un modelo de regresión logística para predecir la **supervivencia** en función de **Age**."
      ],
      "metadata": {
        "id": "qp_L2Yk8GXEz"
      }
    },
    {
      "cell_type": "code",
      "source": [
        "ds_as = ds_titanic.copy()\n",
        "ds_as = ds_as[[\"Age\", \"Survived\"]]\n",
        "ds_as.dropna(inplace = True)"
      ],
      "metadata": {
        "id": "Oa49C2q8DQQl"
      },
      "execution_count": 41,
      "outputs": []
    },
    {
      "cell_type": "code",
      "source": [
        "ds_trabajo_x = ds_as[\"Age\"]\n",
        "ds_trabajo_y = ds_as[\"Survived\"]\n",
        "\n",
        "x_train, x_test, y_train, y_test = train_test_split(ds_trabajo_x, ds_trabajo_y, test_size=0.2, random_state=2)"
      ],
      "metadata": {
        "id": "Td37Cv79DweA"
      },
      "execution_count": 42,
      "outputs": []
    },
    {
      "cell_type": "code",
      "source": [
        "x_train_modelo0 = x_train.values.reshape(-1,1).copy()\n",
        "x_test_modelo0 = x_test.values.reshape(-1,1).copy()\n",
        "y_train_modelo0 =  y_train.copy()\n",
        "y_test_modelo0 =  y_test.copy()"
      ],
      "metadata": {
        "id": "mRVCvwjFFci3"
      },
      "execution_count": 43,
      "outputs": []
    },
    {
      "cell_type": "markdown",
      "source": [
        "### Entrenamos el modelo"
      ],
      "metadata": {
        "id": "IeM8ibEhIKk1"
      }
    },
    {
      "cell_type": "code",
      "source": [
        "modelo0 = LogisticRegression()\n",
        "modelo0.fit(x_train_modelo0, y_train_modelo0)"
      ],
      "metadata": {
        "colab": {
          "base_uri": "https://localhost:8080/"
        },
        "id": "W23xaw3hIFNY",
        "outputId": "461ee4ac-bf00-4858-a404-ef8888b84602"
      },
      "execution_count": 44,
      "outputs": [
        {
          "output_type": "execute_result",
          "data": {
            "text/plain": [
              "LogisticRegression()"
            ]
          },
          "metadata": {},
          "execution_count": 44
        }
      ]
    },
    {
      "cell_type": "markdown",
      "source": [
        "Evaluamos el modelo sobre los datos de test"
      ],
      "metadata": {
        "id": "xsyZ85GwIfpY"
      }
    },
    {
      "cell_type": "code",
      "source": [
        "y_pred_modelo0 = modelo0.predict(x_test_modelo0)\n",
        "y_pred_proba_modelo0 = modelo0.predict_proba(x_test_modelo0)[:, 1]"
      ],
      "metadata": {
        "id": "llBAh9VPIsx2"
      },
      "execution_count": 45,
      "outputs": []
    },
    {
      "cell_type": "markdown",
      "source": [
        "### Miramos una tabla de contingencia"
      ],
      "metadata": {
        "id": "EHqlYqVuJfSU"
      }
    },
    {
      "cell_type": "code",
      "source": [
        "ds_cm=pd.DataFrame(list(zip(y_test_modelo0, y_pred_proba_modelo0)),columns=[\"Survived\",\"Prob\"])\n",
        "ds_cm[\"Survived_predict\"]=0\n",
        "ds_cm.loc[ds_cm.loc[:,\"Prob\"]>=0.50,\"Survived_predict\"]=1\n",
        "tabla=pd.crosstab(ds_cm['Survived'], ds_cm['Survived_predict'])\n",
        "plt.figure(figsize=(5, 4))\n",
        "grf=sns.heatmap(tabla,annot=True, cmap = 'Blues')\n",
        "plt.show()\n"
      ],
      "metadata": {
        "colab": {
          "base_uri": "https://localhost:8080/",
          "height": 279
        },
        "id": "TTOn6AgMJhxr",
        "outputId": "3ee214da-2438-477a-94e3-8c9ac753d363"
      },
      "execution_count": 46,
      "outputs": [
        {
          "output_type": "display_data",
          "data": {
            "text/plain": [
              "<Figure size 360x288 with 2 Axes>"
            ],
            "image/png": "[encoded data removed]"
          },
          "metadata": {}
        }
      ]
    },
    {
      "cell_type": "markdown",
      "source": [
        "##Modelo 1\n",
        "\n",
        "Realizamos un modelo de regresión logística para predecir la **supervivencia** en función de **Pclass, Sex y Age**."
      ],
      "metadata": {
        "id": "LfxPENRFLnB9"
      }
    },
    {
      "cell_type": "code",
      "source": [
        "ds_trabajo = ds_titanic.copy()\n",
        "ds_trabajo.drop(['PassengerId','Name',\"Ticket\", \"Fare\", \"Cabin\", \"SibSp\", \"Parch\", \"Embarked\"], axis='columns', inplace=True)"
      ],
      "metadata": {
        "id": "lg8su2HTL0Lp"
      },
      "execution_count": 47,
      "outputs": []
    },
    {
      "cell_type": "markdown",
      "source": [
        "Transformamos la variables **Pclass, Sex, Embarked** en *dummies*"
      ],
      "metadata": {
        "id": "ArXTLi8AMHS7"
      }
    },
    {
      "cell_type": "code",
      "source": [
        "ds_trabajo = pd.get_dummies(ds_trabajo, columns=[\"Pclass\",\"Sex\"])\n",
        "ds_trabajo.dropna(inplace = True)\n",
        "ds_trabajo.columns.to_list()"
      ],
      "metadata": {
        "colab": {
          "base_uri": "https://localhost:8080/"
        },
        "id": "5wa-ZXiSMis6",
        "outputId": "a75e0e95-2112-4b75-81eb-8f829a06aee9"
      },
      "execution_count": 48,
      "outputs": [
        {
          "output_type": "execute_result",
          "data": {
            "text/plain": [
              "['Survived',\n",
              " 'Age',\n",
              " 'Pclass_1',\n",
              " 'Pclass_2',\n",
              " 'Pclass_3',\n",
              " 'Sex_female',\n",
              " 'Sex_male']"
            ]
          },
          "metadata": {},
          "execution_count": 48
        }
      ]
    },
    {
      "cell_type": "code",
      "source": [
        "columnas_modelo1 = ['Pclass_1','Pclass_2','Sex_female','Age'] # No hacen falta Pclass_3 y Sex_male, son redundantes\n",
        "\n",
        "ds_trabajo_x = ds_trabajo[columnas_modelo1].copy()\n",
        "ds_trabajo_y = ds_trabajo['Survived'].copy()\n",
        "\n",
        "x_train, x_test, y_train, y_test = train_test_split(ds_trabajo_x, ds_trabajo_y, test_size=0.2, random_state=2)"
      ],
      "metadata": {
        "id": "6SWXGbttMohb"
      },
      "execution_count": 49,
      "outputs": []
    },
    {
      "cell_type": "markdown",
      "source": [
        "###Entrenamos el modelo"
      ],
      "metadata": {
        "id": "WRRYoppMiaFI"
      }
    },
    {
      "cell_type": "code",
      "source": [
        "modelo1 = LogisticRegression()\n",
        "modelo1.fit(x_train, y_train)"
      ],
      "metadata": {
        "colab": {
          "base_uri": "https://localhost:8080/"
        },
        "id": "I_2-HkdqhlLu",
        "outputId": "588b0680-9be1-426f-c6e7-bd54159708ee"
      },
      "execution_count": 50,
      "outputs": [
        {
          "output_type": "execute_result",
          "data": {
            "text/plain": [
              "LogisticRegression()"
            ]
          },
          "metadata": {},
          "execution_count": 50
        }
      ]
    },
    {
      "cell_type": "markdown",
      "source": [
        "**Predecimos**"
      ],
      "metadata": {
        "id": "NzZyJyndikah"
      }
    },
    {
      "cell_type": "code",
      "source": [
        "y_pred_modelo1 = modelo1.predict(x_test)\n",
        "y_pred_proba_modelo1 = modelo1.predict_proba(x_test)[:, 1]"
      ],
      "metadata": {
        "id": "20CIDYKihs_b"
      },
      "execution_count": 51,
      "outputs": []
    },
    {
      "cell_type": "markdown",
      "source": [
        "###Tabla de contingencia"
      ],
      "metadata": {
        "id": "49jIOPqsirff"
      }
    },
    {
      "cell_type": "code",
      "source": [
        "ds_cm=pd.DataFrame(list(zip(y_test, y_pred_proba_modelo1)),columns=[\"Survived\",\"Prob\"])\n",
        "ds_cm[\"Survived_predict\"]=0\n",
        "ds_cm.loc[ds_cm.loc[:,\"Prob\"]>=0.50,\"Survived_predict\"]=1\n",
        "\n",
        "tabla=pd.crosstab(ds_cm['Survived'], ds_cm['Survived_predict'])\n",
        "plt.figure(figsize=(5, 4))\n",
        "grf=sns.heatmap(tabla,annot=True, cmap = 'Blues')\n",
        "plt.show()"
      ],
      "metadata": {
        "colab": {
          "base_uri": "https://localhost:8080/",
          "height": 279
        },
        "id": "n1u-babzitsv",
        "outputId": "00fd135a-2aeb-42ab-a287-9e54e4764cee"
      },
      "execution_count": 52,
      "outputs": [
        {
          "output_type": "display_data",
          "data": {
            "text/plain": [
              "<Figure size 360x288 with 2 Axes>"
            ],
            "image/png": "[encoded data removed]"
          },
          "metadata": {}
        }
      ]
    }
  ]
}