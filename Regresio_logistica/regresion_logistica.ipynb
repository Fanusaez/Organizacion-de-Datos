{
  "nbformat": 4,
  "nbformat_minor": 0,
  "metadata": {
    "colab": {
      "provenance": [],
      "authorship_tag": "ABX9TyPAJokvF1ie3kS8tUIRYqk5",
      "include_colab_link": true
    },
    "kernelspec": {
      "name": "python3",
      "display_name": "Python 3"
    },
    "language_info": {
      "name": "python"
    }
  },
  "cells": [
    {
      "cell_type": "markdown",
      "metadata": {
        "id": "view-in-github",
        "colab_type": "text"
      },
      "source": [
        "<a href=\"https://colab.research.google.com/github/Fanusaez/Organizacion-de-Datos/blob/main/Regresio_logistica/regresion_logistica.ipynb\" target=\"_parent\"><img src=\"https://colab.research.google.com/assets/colab-badge.svg\" alt=\"Open In Colab\"/></a>"
      ]
    },
    {
      "cell_type": "markdown",
      "source": [
        "#Sobrevivientes del titanic"
      ],
      "metadata": {
        "id": "tkM-Wt9vAKid"
      }
    },
    {
      "cell_type": "code",
      "execution_count": null,
      "metadata": {
        "id": "NIEaWPXC-5An"
      },
      "outputs": [],
      "source": [
        "## Librerias a utilizar"
      ]
    },
    {
      "cell_type": "code",
      "source": [
        "from sklearn.linear_model import LogisticRegression\n",
        "import pandas as pd\n",
        "import numpy as np\n",
        "\n",
        "import matplotlib.pyplot as plt\n",
        "import seaborn as sns\n",
        "\n",
        "from sklearn.linear_model import LogisticRegression\n",
        "from sklearn.linear_model import LogisticRegressionCV\n",
        "\n",
        "from sklearn.model_selection import cross_val_score,cross_validate\n",
        "\n",
        "from sklearn import metrics\n",
        "from sklearn.model_selection import train_test_split, cross_val_score\n",
        "from sklearn.metrics import confusion_matrix, precision_recall_curve, roc_curve, auc, log_loss\n",
        "\n",
        "from yellowbrick.classifier import DiscriminationThreshold\n",
        "from yellowbrick.classifier import ROCAUC\n",
        "\n",
        "import os\n",
        "import warnings\n",
        "warnings.simplefilter(action='ignore', category=FutureWarning)\n",
        "warnings.simplefilter(action='ignore', category=UserWarning)"
      ],
      "metadata": {
        "id": "Xmc2VYOpAzVT"
      },
      "execution_count": null,
      "outputs": []
    },
    {
      "cell_type": "markdown",
      "source": [
        "## Utilizando nuevamente el conjunto de datos de sobrevivientes del titanic, calcular la regresión logística entre las variables “Age” y “Survived”."
      ],
      "metadata": {
        "id": "P44RcxjYBGar"
      }
    },
    {
      "cell_type": "code",
      "source": [
        "from google.colab import drive\n",
        "drive.mount(\"/gdrive\")\n",
        "\n",
        "ds_titanic = pd.read_csv('/gdrive/My Drive/Datasets/ds_titanic.csv')"
      ],
      "metadata": {
        "colab": {
          "base_uri": "https://localhost:8080/"
        },
        "id": "VRzBE6FJBK5D",
        "outputId": "ff71031c-accb-4b53-cd50-52b1eb4fc8d9"
      },
      "execution_count": null,
      "outputs": [
        {
          "output_type": "stream",
          "name": "stdout",
          "text": [
            "Drive already mounted at /gdrive; to attempt to forcibly remount, call drive.mount(\"/gdrive\", force_remount=True).\n"
          ]
        }
      ]
    },
    {
      "cell_type": "code",
      "source": [
        "ds_titanic.columns.to_list()"
      ],
      "metadata": {
        "colab": {
          "base_uri": "https://localhost:8080/"
        },
        "id": "Y36ptqPdDpFc",
        "outputId": "52c6d3f8-c8e3-4900-e1be-9c4b23c6a2f7"
      },
      "execution_count": null,
      "outputs": [
        {
          "output_type": "execute_result",
          "data": {
            "text/plain": [
              "['PassengerId',\n",
              " 'Survived',\n",
              " 'Pclass',\n",
              " 'Name',\n",
              " 'Sex',\n",
              " 'Age',\n",
              " 'SibSp',\n",
              " 'Parch',\n",
              " 'Ticket',\n",
              " 'Fare',\n",
              " 'Cabin',\n",
              " 'Embarked']"
            ]
          },
          "metadata": {},
          "execution_count": 22
        }
      ]
    },
    {
      "cell_type": "markdown",
      "source": [
        "##Modelo 0\n",
        "Realizamos un modelo de regresión logística para predecir la **supervivencia** en función de **Age**."
      ],
      "metadata": {
        "id": "qp_L2Yk8GXEz"
      }
    },
    {
      "cell_type": "code",
      "source": [
        "ds_as = ds_titanic.copy()\n",
        "ds_as = ds_as[[\"Age\", \"Survived\"]]\n",
        "ds_as.dropna(inplace = True)"
      ],
      "metadata": {
        "id": "Oa49C2q8DQQl"
      },
      "execution_count": null,
      "outputs": []
    },
    {
      "cell_type": "code",
      "source": [
        "ds_trabajo_x = ds_as[\"Age\"]\n",
        "ds_trabajo_y = ds_as[\"Survived\"]\n",
        "\n",
        "x_train, x_test, y_train, y_test = train_test_split(ds_trabajo_x, ds_trabajo_y, test_size=0.2, random_state=2)"
      ],
      "metadata": {
        "id": "Td37Cv79DweA"
      },
      "execution_count": null,
      "outputs": []
    },
    {
      "cell_type": "code",
      "source": [
        "x_train_modelo0 = x_train.values.reshape(-1,1).copy()\n",
        "x_test_modelo0 = x_test.values.reshape(-1,1).copy()\n",
        "y_train_modelo0 =  y_train.copy()\n",
        "y_test_modelo0 =  y_test.copy()"
      ],
      "metadata": {
        "id": "mRVCvwjFFci3"
      },
      "execution_count": null,
      "outputs": []
    },
    {
      "cell_type": "markdown",
      "source": [
        "### Entrenamos el modelo"
      ],
      "metadata": {
        "id": "IeM8ibEhIKk1"
      }
    },
    {
      "cell_type": "code",
      "source": [
        "modelo0 = LogisticRegression()\n",
        "modelo0.fit(x_train_modelo0, y_train_modelo0)"
      ],
      "metadata": {
        "colab": {
          "base_uri": "https://localhost:8080/"
        },
        "id": "W23xaw3hIFNY",
        "outputId": "5b35b858-354c-4cdc-bf25-2f7a9dfe9093"
      },
      "execution_count": null,
      "outputs": [
        {
          "output_type": "execute_result",
          "data": {
            "text/plain": [
              "LogisticRegression()"
            ]
          },
          "metadata": {},
          "execution_count": 26
        }
      ]
    },
    {
      "cell_type": "markdown",
      "source": [
        "Evaluamos el modelo sobre los datos de test"
      ],
      "metadata": {
        "id": "xsyZ85GwIfpY"
      }
    },
    {
      "cell_type": "code",
      "source": [
        "y_pred_modelo0 = modelo0.predict(x_test_modelo0)\n",
        "y_pred_proba_modelo0 = modelo0.predict_proba(x_test_modelo0)[:, 1]"
      ],
      "metadata": {
        "id": "llBAh9VPIsx2"
      },
      "execution_count": null,
      "outputs": []
    },
    {
      "cell_type": "markdown",
      "source": [
        "### Miramos una tabla de contingencia"
      ],
      "metadata": {
        "id": "EHqlYqVuJfSU"
      }
    },
    {
      "cell_type": "code",
      "source": [
        "ds_cm=pd.DataFrame(list(zip(y_test_modelo0, y_pred_proba_modelo0)),columns=[\"Survived\",\"Prob\"])\n",
        "ds_cm[\"Survived_predict\"]=0\n",
        "ds_cm.loc[ds_cm.loc[:,\"Prob\"]>=0.50,\"Survived_predict\"]=1\n",
        "tabla=pd.crosstab(ds_cm['Survived'], ds_cm['Survived_predict'])\n",
        "plt.figure(figsize=(5, 4))\n",
        "grf=sns.heatmap(tabla,annot=True, cmap = 'Blues')\n",
        "plt.show()\n"
      ],
      "metadata": {
        "colab": {
          "base_uri": "https://localhost:8080/",
          "height": 279
        },
        "id": "TTOn6AgMJhxr",
        "outputId": "9037718c-575b-4c0f-a445-354c3b8b0cad"
      },
      "execution_count": null,
      "outputs": [
        {
          "output_type": "display_data",
          "data": {
            "text/plain": [
              "<Figure size 360x288 with 2 Axes>"
            ],
            "image/png": "[encoded data removed]"
          },
          "metadata": {}
        }
      ]
    },
    {
      "cell_type": "markdown",
      "source": [
        "##Modelo 1\n",
        "\n",
        "Realizamos un modelo de regresión logística para predecir la **supervivencia** en función de **Pclass, Sex y Age**."
      ],
      "metadata": {
        "id": "LfxPENRFLnB9"
      }
    },
    {
      "cell_type": "code",
      "source": [
        "ds_trabajo = ds_titanic.copy()\n",
        "ds_trabajo.drop(['PassengerId','Name',\"Ticket\", \"Fare\", \"Cabin\", \"SibSp\", \"Parch\", \"Embarked\"], axis='columns', inplace=True)"
      ],
      "metadata": {
        "id": "lg8su2HTL0Lp"
      },
      "execution_count": null,
      "outputs": []
    },
    {
      "cell_type": "markdown",
      "source": [
        "Transformamos la variables **Pclass, Sex, Embarked** en *dummies*"
      ],
      "metadata": {
        "id": "ArXTLi8AMHS7"
      }
    },
    {
      "cell_type": "code",
      "source": [
        "ds_trabajo = pd.get_dummies(ds_trabajo, columns=[\"Pclass\",\"Sex\"])\n",
        "ds_trabajo.dropna(inplace = True)\n",
        "ds_trabajo.columns.to_list()"
      ],
      "metadata": {
        "colab": {
          "base_uri": "https://localhost:8080/"
        },
        "id": "5wa-ZXiSMis6",
        "outputId": "512f6c95-03ef-45b8-a7bc-b87715a1ba21"
      },
      "execution_count": null,
      "outputs": [
        {
          "output_type": "execute_result",
          "data": {
            "text/plain": [
              "['Survived',\n",
              " 'Age',\n",
              " 'Pclass_1',\n",
              " 'Pclass_2',\n",
              " 'Pclass_3',\n",
              " 'Sex_female',\n",
              " 'Sex_male']"
            ]
          },
          "metadata": {},
          "execution_count": 57
        }
      ]
    },
    {
      "cell_type": "code",
      "source": [
        "columnas_modelo1 = ['Pclass_1','Pclass_2','Sex_female','Age']\n",
        "\n",
        "columnas_modelo.remove('Survived')\n",
        "\n",
        "ds_trabajo_x = ds_trabajo[columnas_modelo].copy()\n",
        "ds_trabajo_y = ds_trabajo['Survived'].copy()\n",
        "\n",
        "x_train, x_test, y_train, y_test = train_test_split(ds_trabajo_x, ds_trabajo_y, test_size=0.2, random_state=2)"
      ],
      "metadata": {
        "id": "6SWXGbttMohb"
      },
      "execution_count": null,
      "outputs": []
    }
  ]
}